{
 "cells": [
  {
   "cell_type": "markdown",
   "metadata": {},
   "source": [
    "Machine Learning Pipeline for House Prediction"
   ]
  },
  {
   "cell_type": "markdown",
   "metadata": {},
   "source": [
    "Problem Statement\n",
    "Our company Nyumabi GmbH is looking to investing in rental properties and they would like to buy houses in India. I have been given a data set and told to create a pipeline that the company can use to try and estimate the cost of houses in India before decideing to purchase.\n",
    "\n",
    "In this Pipeline I will import the data, clean it, preprocess it using the relevant packages and processes and then proceed to build the pipeline. My company hopes to use this model for estimation so that they can know where to focus on buying properties."
   ]
  },
  {
   "cell_type": "markdown",
   "metadata": {},
   "source": [
    "The following machine learning pipeline is for determining rent prices in India.\n",
    "The data set was gotten from Kaggle using this link - https://www.kaggle.com/datasets/amitabhajoy/bengaluru-house-price-data/data"
   ]
  },
  {
   "cell_type": "code",
   "execution_count": 4,
   "metadata": {},
   "outputs": [],
   "source": [
    "import pandas as pd\n",
    "import numpy as np\n",
    "%matplotlib inline\n",
    "import seaborn as sns\n",
    "import matplotlib\n",
    "from matplotlib import pyplot as plt\n",
    "matplotlib.rcParams['figure.figsize'] = (12, 8)\n",
    "\n",
    "from sklearn.model_selection import train_test_split, GridSearchCV\n",
    "from sklearn.linear_model import LinearRegression, Ridge, Lasso, ElasticNet\n",
    "from sklearn.ensemble import RandomForestRegressor"
   ]
  },
  {
   "cell_type": "code",
   "execution_count": 5,
   "metadata": {},
   "outputs": [
    {
     "data": {
      "application/vnd.microsoft.datawrangler.viewer.v0+json": {
       "columns": [
        {
         "name": "index",
         "rawType": "int64",
         "type": "integer"
        },
        {
         "name": "area_type",
         "rawType": "object",
         "type": "string"
        },
        {
         "name": "availability",
         "rawType": "object",
         "type": "string"
        },
        {
         "name": "location",
         "rawType": "object",
         "type": "string"
        },
        {
         "name": "size",
         "rawType": "object",
         "type": "string"
        },
        {
         "name": "society",
         "rawType": "object",
         "type": "unknown"
        },
        {
         "name": "total_sqft",
         "rawType": "object",
         "type": "string"
        },
        {
         "name": "bath",
         "rawType": "float64",
         "type": "float"
        },
        {
         "name": "balcony",
         "rawType": "float64",
         "type": "float"
        },
        {
         "name": "price",
         "rawType": "float64",
         "type": "float"
        }
       ],
       "conversionMethod": "pd.DataFrame",
       "ref": "a53861a5-befd-4a77-96e9-2666d3d65a17",
       "rows": [
        [
         "0",
         "Super built-up  Area",
         "19-Dec",
         "Electronic City Phase II",
         "2 BHK",
         "Coomee ",
         "1056",
         "2.0",
         "1.0",
         "39.07"
        ],
        [
         "1",
         "Plot  Area",
         "Ready To Move",
         "Chikka Tirupathi",
         "4 Bedroom",
         "Theanmp",
         "2600",
         "5.0",
         "3.0",
         "120.0"
        ],
        [
         "2",
         "Built-up  Area",
         "Ready To Move",
         "Uttarahalli",
         "3 BHK",
         null,
         "1440",
         "2.0",
         "3.0",
         "62.0"
        ],
        [
         "3",
         "Super built-up  Area",
         "Ready To Move",
         "Lingadheeranahalli",
         "3 BHK",
         "Soiewre",
         "1521",
         "3.0",
         "1.0",
         "95.0"
        ],
        [
         "4",
         "Super built-up  Area",
         "Ready To Move",
         "Kothanur",
         "2 BHK",
         null,
         "1200",
         "2.0",
         "1.0",
         "51.0"
        ]
       ],
       "shape": {
        "columns": 9,
        "rows": 5
       }
      },
      "text/html": [
       "<div>\n",
       "<style scoped>\n",
       "    .dataframe tbody tr th:only-of-type {\n",
       "        vertical-align: middle;\n",
       "    }\n",
       "\n",
       "    .dataframe tbody tr th {\n",
       "        vertical-align: top;\n",
       "    }\n",
       "\n",
       "    .dataframe thead th {\n",
       "        text-align: right;\n",
       "    }\n",
       "</style>\n",
       "<table border=\"1\" class=\"dataframe\">\n",
       "  <thead>\n",
       "    <tr style=\"text-align: right;\">\n",
       "      <th></th>\n",
       "      <th>area_type</th>\n",
       "      <th>availability</th>\n",
       "      <th>location</th>\n",
       "      <th>size</th>\n",
       "      <th>society</th>\n",
       "      <th>total_sqft</th>\n",
       "      <th>bath</th>\n",
       "      <th>balcony</th>\n",
       "      <th>price</th>\n",
       "    </tr>\n",
       "  </thead>\n",
       "  <tbody>\n",
       "    <tr>\n",
       "      <th>0</th>\n",
       "      <td>Super built-up  Area</td>\n",
       "      <td>19-Dec</td>\n",
       "      <td>Electronic City Phase II</td>\n",
       "      <td>2 BHK</td>\n",
       "      <td>Coomee</td>\n",
       "      <td>1056</td>\n",
       "      <td>2.0</td>\n",
       "      <td>1.0</td>\n",
       "      <td>39.07</td>\n",
       "    </tr>\n",
       "    <tr>\n",
       "      <th>1</th>\n",
       "      <td>Plot  Area</td>\n",
       "      <td>Ready To Move</td>\n",
       "      <td>Chikka Tirupathi</td>\n",
       "      <td>4 Bedroom</td>\n",
       "      <td>Theanmp</td>\n",
       "      <td>2600</td>\n",
       "      <td>5.0</td>\n",
       "      <td>3.0</td>\n",
       "      <td>120.00</td>\n",
       "    </tr>\n",
       "    <tr>\n",
       "      <th>2</th>\n",
       "      <td>Built-up  Area</td>\n",
       "      <td>Ready To Move</td>\n",
       "      <td>Uttarahalli</td>\n",
       "      <td>3 BHK</td>\n",
       "      <td>NaN</td>\n",
       "      <td>1440</td>\n",
       "      <td>2.0</td>\n",
       "      <td>3.0</td>\n",
       "      <td>62.00</td>\n",
       "    </tr>\n",
       "    <tr>\n",
       "      <th>3</th>\n",
       "      <td>Super built-up  Area</td>\n",
       "      <td>Ready To Move</td>\n",
       "      <td>Lingadheeranahalli</td>\n",
       "      <td>3 BHK</td>\n",
       "      <td>Soiewre</td>\n",
       "      <td>1521</td>\n",
       "      <td>3.0</td>\n",
       "      <td>1.0</td>\n",
       "      <td>95.00</td>\n",
       "    </tr>\n",
       "    <tr>\n",
       "      <th>4</th>\n",
       "      <td>Super built-up  Area</td>\n",
       "      <td>Ready To Move</td>\n",
       "      <td>Kothanur</td>\n",
       "      <td>2 BHK</td>\n",
       "      <td>NaN</td>\n",
       "      <td>1200</td>\n",
       "      <td>2.0</td>\n",
       "      <td>1.0</td>\n",
       "      <td>51.00</td>\n",
       "    </tr>\n",
       "  </tbody>\n",
       "</table>\n",
       "</div>"
      ],
      "text/plain": [
       "              area_type   availability                  location       size  \\\n",
       "0  Super built-up  Area         19-Dec  Electronic City Phase II      2 BHK   \n",
       "1            Plot  Area  Ready To Move          Chikka Tirupathi  4 Bedroom   \n",
       "2        Built-up  Area  Ready To Move               Uttarahalli      3 BHK   \n",
       "3  Super built-up  Area  Ready To Move        Lingadheeranahalli      3 BHK   \n",
       "4  Super built-up  Area  Ready To Move                  Kothanur      2 BHK   \n",
       "\n",
       "   society total_sqft  bath  balcony   price  \n",
       "0  Coomee        1056   2.0      1.0   39.07  \n",
       "1  Theanmp       2600   5.0      3.0  120.00  \n",
       "2      NaN       1440   2.0      3.0   62.00  \n",
       "3  Soiewre       1521   3.0      1.0   95.00  \n",
       "4      NaN       1200   2.0      1.0   51.00  "
      ]
     },
     "execution_count": 5,
     "metadata": {},
     "output_type": "execute_result"
    }
   ],
   "source": [
    "df = pd.read_csv(\"~/Desktop/Codes/house_price_prediction/Bengaluru_House_Data.csv\")\n",
    "df.head()"
   ]
  },
  {
   "cell_type": "code",
   "execution_count": 6,
   "metadata": {},
   "outputs": [
    {
     "data": {
      "text/plain": [
       "(13320, 9)"
      ]
     },
     "execution_count": 6,
     "metadata": {},
     "output_type": "execute_result"
    }
   ],
   "source": [
    "df.shape"
   ]
  },
  {
   "cell_type": "code",
   "execution_count": 7,
   "metadata": {},
   "outputs": [
    {
     "name": "stdout",
     "output_type": "stream",
     "text": [
      "<class 'pandas.core.frame.DataFrame'>\n",
      "RangeIndex: 13320 entries, 0 to 13319\n",
      "Data columns (total 9 columns):\n",
      " #   Column        Non-Null Count  Dtype  \n",
      "---  ------        --------------  -----  \n",
      " 0   area_type     13320 non-null  object \n",
      " 1   availability  13320 non-null  object \n",
      " 2   location      13319 non-null  object \n",
      " 3   size          13304 non-null  object \n",
      " 4   society       7818 non-null   object \n",
      " 5   total_sqft    13320 non-null  object \n",
      " 6   bath          13247 non-null  float64\n",
      " 7   balcony       12711 non-null  float64\n",
      " 8   price         13320 non-null  float64\n",
      "dtypes: float64(3), object(6)\n",
      "memory usage: 936.7+ KB\n"
     ]
    }
   ],
   "source": [
    "df.info()"
   ]
  },
  {
   "cell_type": "code",
   "execution_count": 8,
   "metadata": {},
   "outputs": [
    {
     "data": {
      "application/vnd.microsoft.datawrangler.viewer.v0+json": {
       "columns": [
        {
         "name": "index",
         "rawType": "int64",
         "type": "integer"
        },
        {
         "name": "location",
         "rawType": "object",
         "type": "string"
        },
        {
         "name": "size",
         "rawType": "object",
         "type": "string"
        },
        {
         "name": "total_sqft",
         "rawType": "object",
         "type": "string"
        },
        {
         "name": "bath",
         "rawType": "float64",
         "type": "float"
        },
        {
         "name": "price",
         "rawType": "float64",
         "type": "float"
        }
       ],
       "conversionMethod": "pd.DataFrame",
       "ref": "be443615-68de-4a89-bba0-2afeec120579",
       "rows": [
        [
         "0",
         "Electronic City Phase II",
         "2 BHK",
         "1056",
         "2.0",
         "39.07"
        ],
        [
         "1",
         "Chikka Tirupathi",
         "4 Bedroom",
         "2600",
         "5.0",
         "120.0"
        ],
        [
         "2",
         "Uttarahalli",
         "3 BHK",
         "1440",
         "2.0",
         "62.0"
        ],
        [
         "3",
         "Lingadheeranahalli",
         "3 BHK",
         "1521",
         "3.0",
         "95.0"
        ],
        [
         "4",
         "Kothanur",
         "2 BHK",
         "1200",
         "2.0",
         "51.0"
        ]
       ],
       "shape": {
        "columns": 5,
        "rows": 5
       }
      },
      "text/html": [
       "<div>\n",
       "<style scoped>\n",
       "    .dataframe tbody tr th:only-of-type {\n",
       "        vertical-align: middle;\n",
       "    }\n",
       "\n",
       "    .dataframe tbody tr th {\n",
       "        vertical-align: top;\n",
       "    }\n",
       "\n",
       "    .dataframe thead th {\n",
       "        text-align: right;\n",
       "    }\n",
       "</style>\n",
       "<table border=\"1\" class=\"dataframe\">\n",
       "  <thead>\n",
       "    <tr style=\"text-align: right;\">\n",
       "      <th></th>\n",
       "      <th>location</th>\n",
       "      <th>size</th>\n",
       "      <th>total_sqft</th>\n",
       "      <th>bath</th>\n",
       "      <th>price</th>\n",
       "    </tr>\n",
       "  </thead>\n",
       "  <tbody>\n",
       "    <tr>\n",
       "      <th>0</th>\n",
       "      <td>Electronic City Phase II</td>\n",
       "      <td>2 BHK</td>\n",
       "      <td>1056</td>\n",
       "      <td>2.0</td>\n",
       "      <td>39.07</td>\n",
       "    </tr>\n",
       "    <tr>\n",
       "      <th>1</th>\n",
       "      <td>Chikka Tirupathi</td>\n",
       "      <td>4 Bedroom</td>\n",
       "      <td>2600</td>\n",
       "      <td>5.0</td>\n",
       "      <td>120.00</td>\n",
       "    </tr>\n",
       "    <tr>\n",
       "      <th>2</th>\n",
       "      <td>Uttarahalli</td>\n",
       "      <td>3 BHK</td>\n",
       "      <td>1440</td>\n",
       "      <td>2.0</td>\n",
       "      <td>62.00</td>\n",
       "    </tr>\n",
       "    <tr>\n",
       "      <th>3</th>\n",
       "      <td>Lingadheeranahalli</td>\n",
       "      <td>3 BHK</td>\n",
       "      <td>1521</td>\n",
       "      <td>3.0</td>\n",
       "      <td>95.00</td>\n",
       "    </tr>\n",
       "    <tr>\n",
       "      <th>4</th>\n",
       "      <td>Kothanur</td>\n",
       "      <td>2 BHK</td>\n",
       "      <td>1200</td>\n",
       "      <td>2.0</td>\n",
       "      <td>51.00</td>\n",
       "    </tr>\n",
       "  </tbody>\n",
       "</table>\n",
       "</div>"
      ],
      "text/plain": [
       "                   location       size total_sqft  bath   price\n",
       "0  Electronic City Phase II      2 BHK       1056   2.0   39.07\n",
       "1          Chikka Tirupathi  4 Bedroom       2600   5.0  120.00\n",
       "2               Uttarahalli      3 BHK       1440   2.0   62.00\n",
       "3        Lingadheeranahalli      3 BHK       1521   3.0   95.00\n",
       "4                  Kothanur      2 BHK       1200   2.0   51.00"
      ]
     },
     "execution_count": 8,
     "metadata": {},
     "output_type": "execute_result"
    }
   ],
   "source": [
    "df1 = df.drop(['area_type', 'availability', 'society', 'balcony'], axis='columns')\n",
    "df1.head()"
   ]
  },
  {
   "cell_type": "code",
   "execution_count": 9,
   "metadata": {},
   "outputs": [
    {
     "data": {
      "text/plain": [
       "location       1\n",
       "size          16\n",
       "total_sqft     0\n",
       "bath          73\n",
       "price          0\n",
       "dtype: int64"
      ]
     },
     "execution_count": 9,
     "metadata": {},
     "output_type": "execute_result"
    }
   ],
   "source": [
    "df1.isnull().sum()"
   ]
  },
  {
   "cell_type": "code",
   "execution_count": 10,
   "metadata": {},
   "outputs": [
    {
     "data": {
      "text/plain": [
       "location      0\n",
       "size          0\n",
       "total_sqft    0\n",
       "bath          0\n",
       "price         0\n",
       "dtype: int64"
      ]
     },
     "execution_count": 10,
     "metadata": {},
     "output_type": "execute_result"
    }
   ],
   "source": [
    "df1 = df1.dropna()\n",
    "\n",
    "df1.isnull().sum()"
   ]
  },
  {
   "cell_type": "code",
   "execution_count": 11,
   "metadata": {},
   "outputs": [
    {
     "data": {
      "application/vnd.microsoft.datawrangler.viewer.v0+json": {
       "columns": [
        {
         "name": "index",
         "rawType": "int64",
         "type": "integer"
        },
        {
         "name": "location",
         "rawType": "object",
         "type": "string"
        },
        {
         "name": "total_sqft",
         "rawType": "object",
         "type": "string"
        },
        {
         "name": "bath",
         "rawType": "float64",
         "type": "float"
        },
        {
         "name": "price",
         "rawType": "float64",
         "type": "float"
        },
        {
         "name": "bhk",
         "rawType": "int64",
         "type": "integer"
        }
       ],
       "conversionMethod": "pd.DataFrame",
       "ref": "649c6f9f-d16a-4ec7-a455-a7c16691bcf4",
       "rows": [
        [
         "0",
         "Electronic City Phase II",
         "1056",
         "2.0",
         "39.07",
         "2"
        ],
        [
         "1",
         "Chikka Tirupathi",
         "2600",
         "5.0",
         "120.0",
         "4"
        ],
        [
         "2",
         "Uttarahalli",
         "1440",
         "2.0",
         "62.0",
         "3"
        ],
        [
         "3",
         "Lingadheeranahalli",
         "1521",
         "3.0",
         "95.0",
         "3"
        ],
        [
         "4",
         "Kothanur",
         "1200",
         "2.0",
         "51.0",
         "2"
        ]
       ],
       "shape": {
        "columns": 5,
        "rows": 5
       }
      },
      "text/html": [
       "<div>\n",
       "<style scoped>\n",
       "    .dataframe tbody tr th:only-of-type {\n",
       "        vertical-align: middle;\n",
       "    }\n",
       "\n",
       "    .dataframe tbody tr th {\n",
       "        vertical-align: top;\n",
       "    }\n",
       "\n",
       "    .dataframe thead th {\n",
       "        text-align: right;\n",
       "    }\n",
       "</style>\n",
       "<table border=\"1\" class=\"dataframe\">\n",
       "  <thead>\n",
       "    <tr style=\"text-align: right;\">\n",
       "      <th></th>\n",
       "      <th>location</th>\n",
       "      <th>total_sqft</th>\n",
       "      <th>bath</th>\n",
       "      <th>price</th>\n",
       "      <th>bhk</th>\n",
       "    </tr>\n",
       "  </thead>\n",
       "  <tbody>\n",
       "    <tr>\n",
       "      <th>0</th>\n",
       "      <td>Electronic City Phase II</td>\n",
       "      <td>1056</td>\n",
       "      <td>2.0</td>\n",
       "      <td>39.07</td>\n",
       "      <td>2</td>\n",
       "    </tr>\n",
       "    <tr>\n",
       "      <th>1</th>\n",
       "      <td>Chikka Tirupathi</td>\n",
       "      <td>2600</td>\n",
       "      <td>5.0</td>\n",
       "      <td>120.00</td>\n",
       "      <td>4</td>\n",
       "    </tr>\n",
       "    <tr>\n",
       "      <th>2</th>\n",
       "      <td>Uttarahalli</td>\n",
       "      <td>1440</td>\n",
       "      <td>2.0</td>\n",
       "      <td>62.00</td>\n",
       "      <td>3</td>\n",
       "    </tr>\n",
       "    <tr>\n",
       "      <th>3</th>\n",
       "      <td>Lingadheeranahalli</td>\n",
       "      <td>1521</td>\n",
       "      <td>3.0</td>\n",
       "      <td>95.00</td>\n",
       "      <td>3</td>\n",
       "    </tr>\n",
       "    <tr>\n",
       "      <th>4</th>\n",
       "      <td>Kothanur</td>\n",
       "      <td>1200</td>\n",
       "      <td>2.0</td>\n",
       "      <td>51.00</td>\n",
       "      <td>2</td>\n",
       "    </tr>\n",
       "  </tbody>\n",
       "</table>\n",
       "</div>"
      ],
      "text/plain": [
       "                   location total_sqft  bath   price  bhk\n",
       "0  Electronic City Phase II       1056   2.0   39.07    2\n",
       "1          Chikka Tirupathi       2600   5.0  120.00    4\n",
       "2               Uttarahalli       1440   2.0   62.00    3\n",
       "3        Lingadheeranahalli       1521   3.0   95.00    3\n",
       "4                  Kothanur       1200   2.0   51.00    2"
      ]
     },
     "execution_count": 11,
     "metadata": {},
     "output_type": "execute_result"
    }
   ],
   "source": [
    "#Exploring the 'size' column and making the necessary updates.\n",
    "#Getting the first digit in the 'size' column\n",
    "df1['bhk'] = df1['size'].str.split(' ').str[0]\n",
    "df1['bhk'] = df1['bhk'].astype(int)\n",
    "df1.drop(['size'], axis='columns', inplace=True)\n",
    "df1.head()"
   ]
  },
  {
   "cell_type": "code",
   "execution_count": 12,
   "metadata": {},
   "outputs": [
    {
     "name": "stdout",
     "output_type": "stream",
     "text": [
      "Function created\n"
     ]
    }
   ],
   "source": [
    "#Funtion to convert the 'total_sqrt' column to numeric, and if there are any ranges, we will get the mean of the range otherwise any other value that row will be deleted.\n",
    "def convert_sqft_to_num(x):\n",
    "    tokens = x.split('-')\n",
    "    if len(tokens) == 2:\n",
    "        return (float(tokens[0]) + float(tokens[1])) / 2\n",
    "    try:\n",
    "        return float(x)\n",
    "    except:\n",
    "        return None\n",
    "    \n",
    "print('Function created')"
   ]
  },
  {
   "cell_type": "code",
   "execution_count": 13,
   "metadata": {},
   "outputs": [
    {
     "data": {
      "application/vnd.microsoft.datawrangler.viewer.v0+json": {
       "columns": [
        {
         "name": "index",
         "rawType": "int64",
         "type": "integer"
        },
        {
         "name": "location",
         "rawType": "object",
         "type": "string"
        },
        {
         "name": "total_sqft",
         "rawType": "float64",
         "type": "float"
        },
        {
         "name": "bath",
         "rawType": "float64",
         "type": "float"
        },
        {
         "name": "price",
         "rawType": "float64",
         "type": "float"
        },
        {
         "name": "bhk",
         "rawType": "int64",
         "type": "integer"
        }
       ],
       "conversionMethod": "pd.DataFrame",
       "ref": "df169826-a0c1-4f67-90f7-013243f8f1e0",
       "rows": [
        [
         "0",
         "Electronic City Phase II",
         "1056.0",
         "2.0",
         "39.07",
         "2"
        ],
        [
         "1",
         "Chikka Tirupathi",
         "2600.0",
         "5.0",
         "120.0",
         "4"
        ],
        [
         "2",
         "Uttarahalli",
         "1440.0",
         "2.0",
         "62.0",
         "3"
        ],
        [
         "3",
         "Lingadheeranahalli",
         "1521.0",
         "3.0",
         "95.0",
         "3"
        ],
        [
         "4",
         "Kothanur",
         "1200.0",
         "2.0",
         "51.0",
         "2"
        ]
       ],
       "shape": {
        "columns": 5,
        "rows": 5
       }
      },
      "text/html": [
       "<div>\n",
       "<style scoped>\n",
       "    .dataframe tbody tr th:only-of-type {\n",
       "        vertical-align: middle;\n",
       "    }\n",
       "\n",
       "    .dataframe tbody tr th {\n",
       "        vertical-align: top;\n",
       "    }\n",
       "\n",
       "    .dataframe thead th {\n",
       "        text-align: right;\n",
       "    }\n",
       "</style>\n",
       "<table border=\"1\" class=\"dataframe\">\n",
       "  <thead>\n",
       "    <tr style=\"text-align: right;\">\n",
       "      <th></th>\n",
       "      <th>location</th>\n",
       "      <th>total_sqft</th>\n",
       "      <th>bath</th>\n",
       "      <th>price</th>\n",
       "      <th>bhk</th>\n",
       "    </tr>\n",
       "  </thead>\n",
       "  <tbody>\n",
       "    <tr>\n",
       "      <th>0</th>\n",
       "      <td>Electronic City Phase II</td>\n",
       "      <td>1056.0</td>\n",
       "      <td>2.0</td>\n",
       "      <td>39.07</td>\n",
       "      <td>2</td>\n",
       "    </tr>\n",
       "    <tr>\n",
       "      <th>1</th>\n",
       "      <td>Chikka Tirupathi</td>\n",
       "      <td>2600.0</td>\n",
       "      <td>5.0</td>\n",
       "      <td>120.00</td>\n",
       "      <td>4</td>\n",
       "    </tr>\n",
       "    <tr>\n",
       "      <th>2</th>\n",
       "      <td>Uttarahalli</td>\n",
       "      <td>1440.0</td>\n",
       "      <td>2.0</td>\n",
       "      <td>62.00</td>\n",
       "      <td>3</td>\n",
       "    </tr>\n",
       "    <tr>\n",
       "      <th>3</th>\n",
       "      <td>Lingadheeranahalli</td>\n",
       "      <td>1521.0</td>\n",
       "      <td>3.0</td>\n",
       "      <td>95.00</td>\n",
       "      <td>3</td>\n",
       "    </tr>\n",
       "    <tr>\n",
       "      <th>4</th>\n",
       "      <td>Kothanur</td>\n",
       "      <td>1200.0</td>\n",
       "      <td>2.0</td>\n",
       "      <td>51.00</td>\n",
       "      <td>2</td>\n",
       "    </tr>\n",
       "  </tbody>\n",
       "</table>\n",
       "</div>"
      ],
      "text/plain": [
       "                   location  total_sqft  bath   price  bhk\n",
       "0  Electronic City Phase II      1056.0   2.0   39.07    2\n",
       "1          Chikka Tirupathi      2600.0   5.0  120.00    4\n",
       "2               Uttarahalli      1440.0   2.0   62.00    3\n",
       "3        Lingadheeranahalli      1521.0   3.0   95.00    3\n",
       "4                  Kothanur      1200.0   2.0   51.00    2"
      ]
     },
     "execution_count": 13,
     "metadata": {},
     "output_type": "execute_result"
    }
   ],
   "source": [
    "# Ensuring 'total_sqft' column is treated as string before applying the function\n",
    "df1['total_sqft'] = df1['total_sqft'].astype(str).apply(convert_sqft_to_num)\n",
    "df1.head()"
   ]
  },
  {
   "cell_type": "code",
   "execution_count": 14,
   "metadata": {},
   "outputs": [
    {
     "data": {
      "text/plain": [
       "location       0\n",
       "total_sqft    46\n",
       "bath           0\n",
       "price          0\n",
       "bhk            0\n",
       "dtype: int64"
      ]
     },
     "execution_count": 14,
     "metadata": {},
     "output_type": "execute_result"
    }
   ],
   "source": [
    "#Checking for null values in the 'total_sqft' column\n",
    "df1.isnull().sum()"
   ]
  },
  {
   "cell_type": "code",
   "execution_count": 15,
   "metadata": {},
   "outputs": [
    {
     "data": {
      "text/plain": [
       "location      0\n",
       "total_sqft    0\n",
       "bath          0\n",
       "price         0\n",
       "bhk           0\n",
       "dtype: int64"
      ]
     },
     "execution_count": 15,
     "metadata": {},
     "output_type": "execute_result"
    }
   ],
   "source": [
    "#Dropping the rows with the null values in the 'total_sqft' column\n",
    "df1 = df1.dropna()\n",
    "df1.isnull().sum()"
   ]
  },
  {
   "cell_type": "code",
   "execution_count": 16,
   "metadata": {},
   "outputs": [
    {
     "data": {
      "text/plain": [
       "(13200, 5)"
      ]
     },
     "execution_count": 16,
     "metadata": {},
     "output_type": "execute_result"
    }
   ],
   "source": [
    "df1.shape"
   ]
  },
  {
   "cell_type": "markdown",
   "metadata": {},
   "source": [
    "Feature Engineering"
   ]
  },
  {
   "cell_type": "markdown",
   "metadata": {},
   "source": [
    "Here I will introduce new columns that will assist me in analyzing the data set. The columns will be deleted further down the line as they will not be useful after assisting me with the data cleaning. This will help me remove outliers in certain rows in the data."
   ]
  },
  {
   "cell_type": "code",
   "execution_count": 17,
   "metadata": {},
   "outputs": [
    {
     "data": {
      "application/vnd.microsoft.datawrangler.viewer.v0+json": {
       "columns": [
        {
         "name": "index",
         "rawType": "int64",
         "type": "integer"
        },
        {
         "name": "location",
         "rawType": "object",
         "type": "string"
        },
        {
         "name": "total_sqft",
         "rawType": "float64",
         "type": "float"
        },
        {
         "name": "bath",
         "rawType": "float64",
         "type": "float"
        },
        {
         "name": "price",
         "rawType": "float64",
         "type": "float"
        },
        {
         "name": "bhk",
         "rawType": "int64",
         "type": "integer"
        },
        {
         "name": "price_per_sqft",
         "rawType": "float64",
         "type": "float"
        }
       ],
       "conversionMethod": "pd.DataFrame",
       "ref": "b72e0ebb-26df-43b1-a423-5611dd58a329",
       "rows": [
        [
         "0",
         "Electronic City Phase II",
         "1056.0",
         "2.0",
         "39.07",
         "2",
         "3699.810606060606"
        ],
        [
         "1",
         "Chikka Tirupathi",
         "2600.0",
         "5.0",
         "120.0",
         "4",
         "4615.384615384615"
        ],
        [
         "2",
         "Uttarahalli",
         "1440.0",
         "2.0",
         "62.0",
         "3",
         "4305.555555555556"
        ],
        [
         "3",
         "Lingadheeranahalli",
         "1521.0",
         "3.0",
         "95.0",
         "3",
         "6245.890861275477"
        ],
        [
         "4",
         "Kothanur",
         "1200.0",
         "2.0",
         "51.0",
         "2",
         "4250.0"
        ]
       ],
       "shape": {
        "columns": 6,
        "rows": 5
       }
      },
      "text/html": [
       "<div>\n",
       "<style scoped>\n",
       "    .dataframe tbody tr th:only-of-type {\n",
       "        vertical-align: middle;\n",
       "    }\n",
       "\n",
       "    .dataframe tbody tr th {\n",
       "        vertical-align: top;\n",
       "    }\n",
       "\n",
       "    .dataframe thead th {\n",
       "        text-align: right;\n",
       "    }\n",
       "</style>\n",
       "<table border=\"1\" class=\"dataframe\">\n",
       "  <thead>\n",
       "    <tr style=\"text-align: right;\">\n",
       "      <th></th>\n",
       "      <th>location</th>\n",
       "      <th>total_sqft</th>\n",
       "      <th>bath</th>\n",
       "      <th>price</th>\n",
       "      <th>bhk</th>\n",
       "      <th>price_per_sqft</th>\n",
       "    </tr>\n",
       "  </thead>\n",
       "  <tbody>\n",
       "    <tr>\n",
       "      <th>0</th>\n",
       "      <td>Electronic City Phase II</td>\n",
       "      <td>1056.0</td>\n",
       "      <td>2.0</td>\n",
       "      <td>39.07</td>\n",
       "      <td>2</td>\n",
       "      <td>3699.810606</td>\n",
       "    </tr>\n",
       "    <tr>\n",
       "      <th>1</th>\n",
       "      <td>Chikka Tirupathi</td>\n",
       "      <td>2600.0</td>\n",
       "      <td>5.0</td>\n",
       "      <td>120.00</td>\n",
       "      <td>4</td>\n",
       "      <td>4615.384615</td>\n",
       "    </tr>\n",
       "    <tr>\n",
       "      <th>2</th>\n",
       "      <td>Uttarahalli</td>\n",
       "      <td>1440.0</td>\n",
       "      <td>2.0</td>\n",
       "      <td>62.00</td>\n",
       "      <td>3</td>\n",
       "      <td>4305.555556</td>\n",
       "    </tr>\n",
       "    <tr>\n",
       "      <th>3</th>\n",
       "      <td>Lingadheeranahalli</td>\n",
       "      <td>1521.0</td>\n",
       "      <td>3.0</td>\n",
       "      <td>95.00</td>\n",
       "      <td>3</td>\n",
       "      <td>6245.890861</td>\n",
       "    </tr>\n",
       "    <tr>\n",
       "      <th>4</th>\n",
       "      <td>Kothanur</td>\n",
       "      <td>1200.0</td>\n",
       "      <td>2.0</td>\n",
       "      <td>51.00</td>\n",
       "      <td>2</td>\n",
       "      <td>4250.000000</td>\n",
       "    </tr>\n",
       "  </tbody>\n",
       "</table>\n",
       "</div>"
      ],
      "text/plain": [
       "                   location  total_sqft  bath   price  bhk  price_per_sqft\n",
       "0  Electronic City Phase II      1056.0   2.0   39.07    2     3699.810606\n",
       "1          Chikka Tirupathi      2600.0   5.0  120.00    4     4615.384615\n",
       "2               Uttarahalli      1440.0   2.0   62.00    3     4305.555556\n",
       "3        Lingadheeranahalli      1521.0   3.0   95.00    3     6245.890861\n",
       "4                  Kothanur      1200.0   2.0   51.00    2     4250.000000"
      ]
     },
     "execution_count": 17,
     "metadata": {},
     "output_type": "execute_result"
    }
   ],
   "source": [
    "#Creating a new column 'price_per_sqft' by dividing the 'price' column with the 'total_sqft' column\n",
    "#This will help us detect the outliers in the data.\n",
    "df1['price_per_sqft'] = df1['price'] * 100000 / df1['total_sqft']\n",
    "df1.head()"
   ]
  },
  {
   "cell_type": "code",
   "execution_count": 18,
   "metadata": {},
   "outputs": [
    {
     "data": {
      "text/plain": [
       "location\n",
       "Whitefield                   532\n",
       "Sarjapur  Road               392\n",
       "Electronic City              302\n",
       "Kanakpura Road               264\n",
       "Thanisandra                  232\n",
       "                            ... \n",
       "Indiranagar HAL 2nd Stage      1\n",
       "Maruthi HBCS Layout            1\n",
       "K R C kothanur                 1\n",
       "1Channasandra                  1\n",
       "Abshot Layout                  1\n",
       "Name: count, Length: 1298, dtype: int64"
      ]
     },
     "execution_count": 18,
     "metadata": {},
     "output_type": "execute_result"
    }
   ],
   "source": [
    "#Exploring the 'location' column\n",
    "df1['location'].value_counts()"
   ]
  },
  {
   "cell_type": "code",
   "execution_count": 19,
   "metadata": {},
   "outputs": [
    {
     "data": {
      "text/plain": [
       "location\n",
       "Other                   2757\n",
       "Whitefield               532\n",
       "Sarjapur  Road           392\n",
       "Electronic City          302\n",
       "Kanakpura Road           264\n",
       "                        ... \n",
       "Nagappa Reddy Layout      10\n",
       "BTM 1st Stage             10\n",
       "Basapura                  10\n",
       "Kalkere                   10\n",
       "Nagadevanahalli           10\n",
       "Name: count, Length: 254, dtype: int64"
      ]
     },
     "execution_count": 19,
     "metadata": {},
     "output_type": "execute_result"
    }
   ],
   "source": [
    "#Grouping the location with less than 15 occurens=ces to 'Other'. This will help in the future for example with encoding.\n",
    "location_counts = df1['location'].value_counts()\n",
    "reduce_locations = set(location_counts[location_counts >= 10].index)\n",
    "\n",
    "#Replacing the locations with less than 15 occurrences with 'Other'd\n",
    "df1['location'] = df1['location'].apply(lambda x: x if x in reduce_locations else \"Other\")\n",
    "df1['location'].value_counts()"
   ]
  },
  {
   "cell_type": "code",
   "execution_count": 20,
   "metadata": {},
   "outputs": [
    {
     "data": {
      "text/plain": [
       "(13200, 6)"
      ]
     },
     "execution_count": 20,
     "metadata": {},
     "output_type": "execute_result"
    }
   ],
   "source": [
    "df1.shape"
   ]
  },
  {
   "cell_type": "markdown",
   "metadata": {},
   "source": [
    "Detecting Outliers."
   ]
  },
  {
   "cell_type": "code",
   "execution_count": 21,
   "metadata": {},
   "outputs": [
    {
     "data": {
      "text/plain": [
       "(12274, 6)"
      ]
     },
     "execution_count": 21,
     "metadata": {},
     "output_type": "execute_result"
    }
   ],
   "source": [
    "#Removing the apartments with less than 300 sqft as it is not possible to have a house with less than 300 sqft in that city. That should be a mistake.\n",
    "df2 = df1[df1.total_sqft/df1.bhk > 300]\n",
    "df2.shape"
   ]
  },
  {
   "cell_type": "code",
   "execution_count": 22,
   "metadata": {},
   "outputs": [
    {
     "data": {
      "text/plain": [
       "count     12274.000000\n",
       "mean       6211.880230\n",
       "std        4053.214807\n",
       "min         267.829813\n",
       "25%        4200.000000\n",
       "50%        5263.157895\n",
       "75%        6825.474875\n",
       "max      176470.588235\n",
       "Name: price_per_sqft, dtype: float64"
      ]
     },
     "execution_count": 22,
     "metadata": {},
     "output_type": "execute_result"
    }
   ],
   "source": [
    "#Exploring the 'price_per_sqft' column and filtering out the outliers\n",
    "df2['price_per_sqft'].describe()"
   ]
  },
  {
   "cell_type": "code",
   "execution_count": 23,
   "metadata": {},
   "outputs": [],
   "source": [
    "#Removing the outliers in the 'price_per_sqft' column based on the standard deviation and the meaan\n",
    "def remove_ppl_outliers(df):\n",
    "    df_out = pd.DataFrame()\n",
    "    for location, location_df in df.groupby('location'):\n",
    "        mean = np.mean(location_df['price_per_sqft'])\n",
    "        std = np.std(location_df['price_per_sqft'])\n",
    "        reduced_df = location_df[(location_df['price_per_sqft'] > (mean - std)) & (location_df['price_per_sqft'] <= (mean + std))]\n",
    "        df_out = pd.concat([df_out, reduced_df], ignore_index=True)\n",
    "    return df_out"
   ]
  },
  {
   "cell_type": "code",
   "execution_count": 24,
   "metadata": {},
   "outputs": [
    {
     "data": {
      "text/plain": [
       "(9999, 6)"
      ]
     },
     "execution_count": 24,
     "metadata": {},
     "output_type": "execute_result"
    }
   ],
   "source": [
    "df3 = remove_ppl_outliers(df2)\n",
    "df3.shape"
   ]
  },
  {
   "cell_type": "code",
   "execution_count": 25,
   "metadata": {},
   "outputs": [
    {
     "data": {
      "image/png": "[encoded data removed]",
      "text/plain": [
       "<Figure size 1200x800 with 1 Axes>"
      ]
     },
     "metadata": {},
     "output_type": "display_data"
    }
   ],
   "source": [
    "#I want to analyze the 'bhk' column to see it there are any outliers in the data by drawing a scatter plot. I will use the 'price_per_sqft' column to do that for example the bhk that has value of 2 and 3 to see it there are any 3 bhk with a total_sqrt less than 3 bhk. I will use 3 locations to do that.\n",
    "def plot_scatter_chart(df, location):\n",
    "    bhk2 = df[(df['location'] == location) & (df['bhk'] == 2)]\n",
    "    bhk3 = df[(df['location'] == location) & (df['bhk'] == 3)]\n",
    "    plt.scatter(bhk2['total_sqft'], bhk2['price_per_sqft'], color='blue', label='2 BHK', s=50)\n",
    "    plt.scatter(bhk3['total_sqft'], bhk3['price_per_sqft'], color='red', label='3 BHK', s=50)\n",
    "    plt.xlabel(\"Total Square Feet Area\")\n",
    "    plt.ylabel(\"Price Per Square Feet\")\n",
    "    plt.title(location)\n",
    "    plt.legend()\n",
    "plot_scatter_chart(df3, \"Rajaji Nagar\")\n",
    "plot_scatter_chart(df3, \"Hebbal\")\n",
    "plot_scatter_chart(df3, \"Whitefield\")"
   ]
  },
  {
   "cell_type": "code",
   "execution_count": 26,
   "metadata": {},
   "outputs": [],
   "source": [
    "#We can see that there are some 3 BHK apartments with a total_sqrt less than 2 BHK apartments. This is not possible. So I will remove these outliers.\n",
    "def remove_bhk_outliers(df):\n",
    "    exclude_indices = np.array([])\n",
    "    for location, location_df in df.groupby('location'):\n",
    "        bhk_stats = {}\n",
    "        for bhk, bhk_df in location_df.groupby('bhk'):\n",
    "            bhk_stats[bhk] = {\n",
    "                'mean': np.mean(bhk_df['price_per_sqft']),\n",
    "                'std': np.std(bhk_df['price_per_sqft']),\n",
    "                'count': bhk_df.shape[0]\n",
    "            }\n",
    "        for bhk, bhk_df in location_df.groupby('bhk'):\n",
    "            stats = bhk_stats.get(bhk - 1)\n",
    "            if stats and stats['count'] > 5:\n",
    "                exclude_indices = np.append(exclude_indices, bhk_df[bhk_df['price_per_sqft'] < (stats['mean'])].index.values)\n",
    "    return df.drop(exclude_indices, axis='index')\n",
    "df4 = remove_bhk_outliers(df3) "
   ]
  },
  {
   "cell_type": "code",
   "execution_count": 27,
   "metadata": {},
   "outputs": [
    {
     "data": {
      "image/png": "[encoded data removed]",
      "text/plain": [
       "<Figure size 1200x800 with 1 Axes>"
      ]
     },
     "metadata": {},
     "output_type": "display_data"
    }
   ],
   "source": [
    "#plotting thw scatter plot again to see if there are any outliers and if they ahve reduced.\n",
    "plot_scatter_chart(df4, \"Rajaji Nagar\")\n",
    "plot_scatter_chart(df4, \"Hebbal\")\n",
    "plot_scatter_chart(df4, \"Whitefield\")"
   ]
  },
  {
   "cell_type": "code",
   "execution_count": 28,
   "metadata": {},
   "outputs": [
    {
     "data": {
      "text/plain": [
       "(7217, 6)"
      ]
     },
     "execution_count": 28,
     "metadata": {},
     "output_type": "execute_result"
    }
   ],
   "source": [
    "df4.shape"
   ]
  },
  {
   "cell_type": "markdown",
   "metadata": {},
   "source": [
    "Based on the above output we can see that the data has been reduced to only remain with the relevant data. I will now proceed to delete the unnecessary columns that will not be needed."
   ]
  },
  {
   "cell_type": "code",
   "execution_count": 29,
   "metadata": {},
   "outputs": [
    {
     "data": {
      "text/plain": [
       "(7215, 6)"
      ]
     },
     "execution_count": 29,
     "metadata": {},
     "output_type": "execute_result"
    }
   ],
   "source": [
    "#Explorinng the 'bath' column to see if there are any outliers. \n",
    "# I will remove the bath that are 2 more than the bhk. Foe example if the bhk is 2, then the bath should be 4. More than that is not correct, less than that is ok.\n",
    "#I will use the 'location' column to do that.\n",
    "#Function to remove the outliers in the 'bath' column. bath should be less than or equal to bhk + 2.\n",
    "def remove_bath_outliers(df):\n",
    "    exclude_indices = np.array([])\n",
    "    for location, location_df in df.groupby('location'):\n",
    "        for bhk, bhk_df in location_df.groupby('bhk'):\n",
    "            if bhk_df['bath'].values[0] > bhk + 2:\n",
    "                exclude_indices = np.append(exclude_indices, bhk_df.index.values)\n",
    "    return df.drop(exclude_indices, axis='index')\n",
    "df5 = remove_bath_outliers(df4)\n",
    "df5.shape"
   ]
  },
  {
   "cell_type": "code",
   "execution_count": 30,
   "metadata": {},
   "outputs": [
    {
     "data": {
      "application/vnd.microsoft.datawrangler.viewer.v0+json": {
       "columns": [
        {
         "name": "index",
         "rawType": "int64",
         "type": "integer"
        },
        {
         "name": "location",
         "rawType": "object",
         "type": "string"
        },
        {
         "name": "total_sqft",
         "rawType": "float64",
         "type": "float"
        },
        {
         "name": "bath",
         "rawType": "float64",
         "type": "float"
        },
        {
         "name": "price",
         "rawType": "float64",
         "type": "float"
        },
        {
         "name": "bhk",
         "rawType": "int64",
         "type": "integer"
        }
       ],
       "conversionMethod": "pd.DataFrame",
       "ref": "d7be75c7-d360-4294-ad41-340827c8e2f2",
       "rows": [
        [
         "1",
         " Devarachikkanahalli",
         "1250.0",
         "2.0",
         "40.0",
         "2"
        ],
        [
         "2",
         " Devarachikkanahalli",
         "1200.0",
         "2.0",
         "83.0",
         "2"
        ],
        [
         "3",
         " Devarachikkanahalli",
         "1170.0",
         "2.0",
         "40.0",
         "2"
        ],
        [
         "4",
         " Devarachikkanahalli",
         "1425.0",
         "2.0",
         "65.0",
         "3"
        ],
        [
         "5",
         " Devarachikkanahalli",
         "947.0",
         "2.0",
         "43.0",
         "2"
        ]
       ],
       "shape": {
        "columns": 5,
        "rows": 5
       }
      },
      "text/html": [
       "<div>\n",
       "<style scoped>\n",
       "    .dataframe tbody tr th:only-of-type {\n",
       "        vertical-align: middle;\n",
       "    }\n",
       "\n",
       "    .dataframe tbody tr th {\n",
       "        vertical-align: top;\n",
       "    }\n",
       "\n",
       "    .dataframe thead th {\n",
       "        text-align: right;\n",
       "    }\n",
       "</style>\n",
       "<table border=\"1\" class=\"dataframe\">\n",
       "  <thead>\n",
       "    <tr style=\"text-align: right;\">\n",
       "      <th></th>\n",
       "      <th>location</th>\n",
       "      <th>total_sqft</th>\n",
       "      <th>bath</th>\n",
       "      <th>price</th>\n",
       "      <th>bhk</th>\n",
       "    </tr>\n",
       "  </thead>\n",
       "  <tbody>\n",
       "    <tr>\n",
       "      <th>1</th>\n",
       "      <td>Devarachikkanahalli</td>\n",
       "      <td>1250.0</td>\n",
       "      <td>2.0</td>\n",
       "      <td>40.0</td>\n",
       "      <td>2</td>\n",
       "    </tr>\n",
       "    <tr>\n",
       "      <th>2</th>\n",
       "      <td>Devarachikkanahalli</td>\n",
       "      <td>1200.0</td>\n",
       "      <td>2.0</td>\n",
       "      <td>83.0</td>\n",
       "      <td>2</td>\n",
       "    </tr>\n",
       "    <tr>\n",
       "      <th>3</th>\n",
       "      <td>Devarachikkanahalli</td>\n",
       "      <td>1170.0</td>\n",
       "      <td>2.0</td>\n",
       "      <td>40.0</td>\n",
       "      <td>2</td>\n",
       "    </tr>\n",
       "    <tr>\n",
       "      <th>4</th>\n",
       "      <td>Devarachikkanahalli</td>\n",
       "      <td>1425.0</td>\n",
       "      <td>2.0</td>\n",
       "      <td>65.0</td>\n",
       "      <td>3</td>\n",
       "    </tr>\n",
       "    <tr>\n",
       "      <th>5</th>\n",
       "      <td>Devarachikkanahalli</td>\n",
       "      <td>947.0</td>\n",
       "      <td>2.0</td>\n",
       "      <td>43.0</td>\n",
       "      <td>2</td>\n",
       "    </tr>\n",
       "  </tbody>\n",
       "</table>\n",
       "</div>"
      ],
      "text/plain": [
       "               location  total_sqft  bath  price  bhk\n",
       "1   Devarachikkanahalli      1250.0   2.0   40.0    2\n",
       "2   Devarachikkanahalli      1200.0   2.0   83.0    2\n",
       "3   Devarachikkanahalli      1170.0   2.0   40.0    2\n",
       "4   Devarachikkanahalli      1425.0   2.0   65.0    3\n",
       "5   Devarachikkanahalli       947.0   2.0   43.0    2"
      ]
     },
     "execution_count": 30,
     "metadata": {},
     "output_type": "execute_result"
    }
   ],
   "source": [
    "#Droppin the unnecessary columns\n",
    "df5 = df5.drop(['price_per_sqft'], axis='columns')\n",
    "df5.head()"
   ]
  },
  {
   "cell_type": "markdown",
   "metadata": {},
   "source": [
    "Model Building and Training"
   ]
  },
  {
   "cell_type": "code",
   "execution_count": 31,
   "metadata": {},
   "outputs": [
    {
     "data": {
      "application/vnd.microsoft.datawrangler.viewer.v0+json": {
       "columns": [
        {
         "name": "index",
         "rawType": "int64",
         "type": "integer"
        },
        {
         "name": "total_sqft",
         "rawType": "float64",
         "type": "float"
        },
        {
         "name": "bath",
         "rawType": "float64",
         "type": "float"
        },
        {
         "name": "price",
         "rawType": "float64",
         "type": "float"
        },
        {
         "name": "bhk",
         "rawType": "int64",
         "type": "integer"
        },
        {
         "name": " Devarachikkanahalli",
         "rawType": "int64",
         "type": "integer"
        },
        {
         "name": "1st Block Jayanagar",
         "rawType": "int64",
         "type": "integer"
        },
        {
         "name": "1st Block Koramangala",
         "rawType": "int64",
         "type": "integer"
        },
        {
         "name": "1st Phase JP Nagar",
         "rawType": "int64",
         "type": "integer"
        },
        {
         "name": "2nd Phase Judicial Layout",
         "rawType": "int64",
         "type": "integer"
        },
        {
         "name": "2nd Stage Nagarbhavi",
         "rawType": "int64",
         "type": "integer"
        },
        {
         "name": "5th Block Hbr Layout",
         "rawType": "int64",
         "type": "integer"
        },
        {
         "name": "5th Phase JP Nagar",
         "rawType": "int64",
         "type": "integer"
        },
        {
         "name": "6th Phase JP Nagar",
         "rawType": "int64",
         "type": "integer"
        },
        {
         "name": "7th Phase JP Nagar",
         "rawType": "int64",
         "type": "integer"
        },
        {
         "name": "8th Phase JP Nagar",
         "rawType": "int64",
         "type": "integer"
        },
        {
         "name": "9th Phase JP Nagar",
         "rawType": "int64",
         "type": "integer"
        },
        {
         "name": "AECS Layout",
         "rawType": "int64",
         "type": "integer"
        },
        {
         "name": "Abbigere",
         "rawType": "int64",
         "type": "integer"
        },
        {
         "name": "Akshaya Nagar",
         "rawType": "int64",
         "type": "integer"
        },
        {
         "name": "Ambalipura",
         "rawType": "int64",
         "type": "integer"
        },
        {
         "name": "Ambedkar Nagar",
         "rawType": "int64",
         "type": "integer"
        },
        {
         "name": "Amruthahalli",
         "rawType": "int64",
         "type": "integer"
        },
        {
         "name": "Anandapura",
         "rawType": "int64",
         "type": "integer"
        },
        {
         "name": "Ananth Nagar",
         "rawType": "int64",
         "type": "integer"
        },
        {
         "name": "Anekal",
         "rawType": "int64",
         "type": "integer"
        },
        {
         "name": "Anjanapura",
         "rawType": "int64",
         "type": "integer"
        },
        {
         "name": "Ardendale",
         "rawType": "int64",
         "type": "integer"
        },
        {
         "name": "Arekere",
         "rawType": "int64",
         "type": "integer"
        },
        {
         "name": "Attibele",
         "rawType": "int64",
         "type": "integer"
        },
        {
         "name": "BEML Layout",
         "rawType": "int64",
         "type": "integer"
        },
        {
         "name": "BTM 1st Stage",
         "rawType": "int64",
         "type": "integer"
        },
        {
         "name": "BTM 2nd Stage",
         "rawType": "int64",
         "type": "integer"
        },
        {
         "name": "BTM Layout",
         "rawType": "int64",
         "type": "integer"
        },
        {
         "name": "Babusapalaya",
         "rawType": "int64",
         "type": "integer"
        },
        {
         "name": "Badavala Nagar",
         "rawType": "int64",
         "type": "integer"
        },
        {
         "name": "Balagere",
         "rawType": "int64",
         "type": "integer"
        },
        {
         "name": "Banashankari",
         "rawType": "int64",
         "type": "integer"
        },
        {
         "name": "Banashankari Stage II",
         "rawType": "int64",
         "type": "integer"
        },
        {
         "name": "Banashankari Stage III",
         "rawType": "int64",
         "type": "integer"
        },
        {
         "name": "Banashankari Stage V",
         "rawType": "int64",
         "type": "integer"
        },
        {
         "name": "Banashankari Stage VI",
         "rawType": "int64",
         "type": "integer"
        },
        {
         "name": "Banaswadi",
         "rawType": "int64",
         "type": "integer"
        },
        {
         "name": "Banjara Layout",
         "rawType": "int64",
         "type": "integer"
        },
        {
         "name": "Bannerghatta",
         "rawType": "int64",
         "type": "integer"
        },
        {
         "name": "Bannerghatta Road",
         "rawType": "int64",
         "type": "integer"
        },
        {
         "name": "Basapura",
         "rawType": "int64",
         "type": "integer"
        },
        {
         "name": "Basavangudi",
         "rawType": "int64",
         "type": "integer"
        },
        {
         "name": "Basaveshwara Nagar",
         "rawType": "int64",
         "type": "integer"
        },
        {
         "name": "Battarahalli",
         "rawType": "int64",
         "type": "integer"
        },
        {
         "name": "Begur",
         "rawType": "int64",
         "type": "integer"
        },
        {
         "name": "Begur Road",
         "rawType": "int64",
         "type": "integer"
        },
        {
         "name": "Bellandur",
         "rawType": "int64",
         "type": "integer"
        },
        {
         "name": "Benson Town",
         "rawType": "int64",
         "type": "integer"
        },
        {
         "name": "Bharathi Nagar",
         "rawType": "int64",
         "type": "integer"
        },
        {
         "name": "Bhoganhalli",
         "rawType": "int64",
         "type": "integer"
        },
        {
         "name": "Billekahalli",
         "rawType": "int64",
         "type": "integer"
        },
        {
         "name": "Binny Pete",
         "rawType": "int64",
         "type": "integer"
        },
        {
         "name": "Bisuvanahalli",
         "rawType": "int64",
         "type": "integer"
        },
        {
         "name": "Bommanahalli",
         "rawType": "int64",
         "type": "integer"
        },
        {
         "name": "Bommasandra",
         "rawType": "int64",
         "type": "integer"
        },
        {
         "name": "Bommasandra Industrial Area",
         "rawType": "int64",
         "type": "integer"
        },
        {
         "name": "Bommenahalli",
         "rawType": "int64",
         "type": "integer"
        },
        {
         "name": "Brookefield",
         "rawType": "int64",
         "type": "integer"
        },
        {
         "name": "Budigere",
         "rawType": "int64",
         "type": "integer"
        },
        {
         "name": "CV Raman Nagar",
         "rawType": "int64",
         "type": "integer"
        },
        {
         "name": "Chamrajpet",
         "rawType": "int64",
         "type": "integer"
        },
        {
         "name": "Chandapura",
         "rawType": "int64",
         "type": "integer"
        },
        {
         "name": "Channasandra",
         "rawType": "int64",
         "type": "integer"
        },
        {
         "name": "Chikka Tirupathi",
         "rawType": "int64",
         "type": "integer"
        },
        {
         "name": "Chikkabanavar",
         "rawType": "int64",
         "type": "integer"
        },
        {
         "name": "Chikkalasandra",
         "rawType": "int64",
         "type": "integer"
        },
        {
         "name": "Choodasandra",
         "rawType": "int64",
         "type": "integer"
        },
        {
         "name": "Cooke Town",
         "rawType": "int64",
         "type": "integer"
        },
        {
         "name": "Cox Town",
         "rawType": "int64",
         "type": "integer"
        },
        {
         "name": "Cunningham Road",
         "rawType": "int64",
         "type": "integer"
        },
        {
         "name": "Dairy Circle",
         "rawType": "int64",
         "type": "integer"
        },
        {
         "name": "Dasanapura",
         "rawType": "int64",
         "type": "integer"
        },
        {
         "name": "Dasarahalli",
         "rawType": "int64",
         "type": "integer"
        },
        {
         "name": "Devanahalli",
         "rawType": "int64",
         "type": "integer"
        },
        {
         "name": "Dodda Nekkundi",
         "rawType": "int64",
         "type": "integer"
        },
        {
         "name": "Doddaballapur",
         "rawType": "int64",
         "type": "integer"
        },
        {
         "name": "Doddakallasandra",
         "rawType": "int64",
         "type": "integer"
        },
        {
         "name": "Doddathoguru",
         "rawType": "int64",
         "type": "integer"
        },
        {
         "name": "Dodsworth Layout",
         "rawType": "int64",
         "type": "integer"
        },
        {
         "name": "Domlur",
         "rawType": "int64",
         "type": "integer"
        },
        {
         "name": "Dommasandra",
         "rawType": "int64",
         "type": "integer"
        },
        {
         "name": "EPIP Zone",
         "rawType": "int64",
         "type": "integer"
        },
        {
         "name": "Electronic City",
         "rawType": "int64",
         "type": "integer"
        },
        {
         "name": "Electronic City Phase II",
         "rawType": "int64",
         "type": "integer"
        },
        {
         "name": "Electronics City Phase 1",
         "rawType": "int64",
         "type": "integer"
        },
        {
         "name": "Frazer Town",
         "rawType": "int64",
         "type": "integer"
        },
        {
         "name": "GM Palaya",
         "rawType": "int64",
         "type": "integer"
        },
        {
         "name": "Ganga Nagar",
         "rawType": "int64",
         "type": "integer"
        },
        {
         "name": "Garudachar Palya",
         "rawType": "int64",
         "type": "integer"
        },
        {
         "name": "Giri Nagar",
         "rawType": "int64",
         "type": "integer"
        },
        {
         "name": "Gollarapalya Hosahalli",
         "rawType": "int64",
         "type": "integer"
        },
        {
         "name": "Gottigere",
         "rawType": "int64",
         "type": "integer"
        },
        {
         "name": "Green Glen Layout",
         "rawType": "int64",
         "type": "integer"
        },
        {
         "name": "Gubbalala",
         "rawType": "int64",
         "type": "integer"
        },
        {
         "name": "Gunjur",
         "rawType": "int64",
         "type": "integer"
        },
        {
         "name": "Gunjur Palya",
         "rawType": "int64",
         "type": "integer"
        },
        {
         "name": "HAL 2nd Stage",
         "rawType": "int64",
         "type": "integer"
        },
        {
         "name": "HBR Layout",
         "rawType": "int64",
         "type": "integer"
        },
        {
         "name": "HRBR Layout",
         "rawType": "int64",
         "type": "integer"
        },
        {
         "name": "HSR Layout",
         "rawType": "int64",
         "type": "integer"
        },
        {
         "name": "Haralur Road",
         "rawType": "int64",
         "type": "integer"
        },
        {
         "name": "Harlur",
         "rawType": "int64",
         "type": "integer"
        },
        {
         "name": "Hebbal",
         "rawType": "int64",
         "type": "integer"
        },
        {
         "name": "Hebbal Kempapura",
         "rawType": "int64",
         "type": "integer"
        },
        {
         "name": "Hegde Nagar",
         "rawType": "int64",
         "type": "integer"
        },
        {
         "name": "Hennur",
         "rawType": "int64",
         "type": "integer"
        },
        {
         "name": "Hennur Road",
         "rawType": "int64",
         "type": "integer"
        },
        {
         "name": "Hoodi",
         "rawType": "int64",
         "type": "integer"
        },
        {
         "name": "Horamavu Agara",
         "rawType": "int64",
         "type": "integer"
        },
        {
         "name": "Horamavu Banaswadi",
         "rawType": "int64",
         "type": "integer"
        },
        {
         "name": "Hormavu",
         "rawType": "int64",
         "type": "integer"
        },
        {
         "name": "Hosa Road",
         "rawType": "int64",
         "type": "integer"
        },
        {
         "name": "Hosakerehalli",
         "rawType": "int64",
         "type": "integer"
        },
        {
         "name": "Hoskote",
         "rawType": "int64",
         "type": "integer"
        },
        {
         "name": "Hosur Road",
         "rawType": "int64",
         "type": "integer"
        },
        {
         "name": "Hulimavu",
         "rawType": "int64",
         "type": "integer"
        },
        {
         "name": "ISRO Layout",
         "rawType": "int64",
         "type": "integer"
        },
        {
         "name": "ITPL",
         "rawType": "int64",
         "type": "integer"
        },
        {
         "name": "Iblur Village",
         "rawType": "int64",
         "type": "integer"
        },
        {
         "name": "Indira Nagar",
         "rawType": "int64",
         "type": "integer"
        },
        {
         "name": "JP Nagar",
         "rawType": "int64",
         "type": "integer"
        },
        {
         "name": "Jakkur",
         "rawType": "int64",
         "type": "integer"
        },
        {
         "name": "Jalahalli",
         "rawType": "int64",
         "type": "integer"
        },
        {
         "name": "Jalahalli East",
         "rawType": "int64",
         "type": "integer"
        },
        {
         "name": "Jigani",
         "rawType": "int64",
         "type": "integer"
        },
        {
         "name": "Judicial Layout",
         "rawType": "int64",
         "type": "integer"
        },
        {
         "name": "KR Puram",
         "rawType": "int64",
         "type": "integer"
        },
        {
         "name": "Kadubeesanahalli",
         "rawType": "int64",
         "type": "integer"
        },
        {
         "name": "Kadugodi",
         "rawType": "int64",
         "type": "integer"
        },
        {
         "name": "Kaggadasapura",
         "rawType": "int64",
         "type": "integer"
        },
        {
         "name": "Kaggalipura",
         "rawType": "int64",
         "type": "integer"
        },
        {
         "name": "Kaikondrahalli",
         "rawType": "int64",
         "type": "integer"
        },
        {
         "name": "Kalena Agrahara",
         "rawType": "int64",
         "type": "integer"
        },
        {
         "name": "Kalkere",
         "rawType": "int64",
         "type": "integer"
        },
        {
         "name": "Kalyan nagar",
         "rawType": "int64",
         "type": "integer"
        },
        {
         "name": "Kambipura",
         "rawType": "int64",
         "type": "integer"
        },
        {
         "name": "Kammanahalli",
         "rawType": "int64",
         "type": "integer"
        },
        {
         "name": "Kammasandra",
         "rawType": "int64",
         "type": "integer"
        },
        {
         "name": "Kanakapura",
         "rawType": "int64",
         "type": "integer"
        },
        {
         "name": "Kanakpura Road",
         "rawType": "int64",
         "type": "integer"
        },
        {
         "name": "Kannamangala",
         "rawType": "int64",
         "type": "integer"
        },
        {
         "name": "Karuna Nagar",
         "rawType": "int64",
         "type": "integer"
        },
        {
         "name": "Kasavanhalli",
         "rawType": "int64",
         "type": "integer"
        },
        {
         "name": "Kasturi Nagar",
         "rawType": "int64",
         "type": "integer"
        },
        {
         "name": "Kathriguppe",
         "rawType": "int64",
         "type": "integer"
        },
        {
         "name": "Kaval Byrasandra",
         "rawType": "int64",
         "type": "integer"
        },
        {
         "name": "Kenchenahalli",
         "rawType": "int64",
         "type": "integer"
        },
        {
         "name": "Kengeri",
         "rawType": "int64",
         "type": "integer"
        },
        {
         "name": "Kengeri Satellite Town",
         "rawType": "int64",
         "type": "integer"
        },
        {
         "name": "Kereguddadahalli",
         "rawType": "int64",
         "type": "integer"
        },
        {
         "name": "Kodichikkanahalli",
         "rawType": "int64",
         "type": "integer"
        },
        {
         "name": "Kodigehaali",
         "rawType": "int64",
         "type": "integer"
        },
        {
         "name": "Kodigehalli",
         "rawType": "int64",
         "type": "integer"
        },
        {
         "name": "Kodihalli",
         "rawType": "int64",
         "type": "integer"
        },
        {
         "name": "Kogilu",
         "rawType": "int64",
         "type": "integer"
        },
        {
         "name": "Konanakunte",
         "rawType": "int64",
         "type": "integer"
        },
        {
         "name": "Koramangala",
         "rawType": "int64",
         "type": "integer"
        },
        {
         "name": "Kothannur",
         "rawType": "int64",
         "type": "integer"
        },
        {
         "name": "Kothanur",
         "rawType": "int64",
         "type": "integer"
        },
        {
         "name": "Kudlu",
         "rawType": "int64",
         "type": "integer"
        },
        {
         "name": "Kudlu Gate",
         "rawType": "int64",
         "type": "integer"
        },
        {
         "name": "Kumaraswami Layout",
         "rawType": "int64",
         "type": "integer"
        },
        {
         "name": "Kundalahalli",
         "rawType": "int64",
         "type": "integer"
        },
        {
         "name": "LB Shastri Nagar",
         "rawType": "int64",
         "type": "integer"
        },
        {
         "name": "Laggere",
         "rawType": "int64",
         "type": "integer"
        },
        {
         "name": "Lakshminarayana Pura",
         "rawType": "int64",
         "type": "integer"
        },
        {
         "name": "Lingadheeranahalli",
         "rawType": "int64",
         "type": "integer"
        },
        {
         "name": "Magadi Road",
         "rawType": "int64",
         "type": "integer"
        },
        {
         "name": "Mahadevpura",
         "rawType": "int64",
         "type": "integer"
        },
        {
         "name": "Mahalakshmi Layout",
         "rawType": "int64",
         "type": "integer"
        },
        {
         "name": "Mallasandra",
         "rawType": "int64",
         "type": "integer"
        },
        {
         "name": "Malleshpalya",
         "rawType": "int64",
         "type": "integer"
        },
        {
         "name": "Malleshwaram",
         "rawType": "int64",
         "type": "integer"
        },
        {
         "name": "Marathahalli",
         "rawType": "int64",
         "type": "integer"
        },
        {
         "name": "Margondanahalli",
         "rawType": "int64",
         "type": "integer"
        },
        {
         "name": "Marsur",
         "rawType": "int64",
         "type": "integer"
        },
        {
         "name": "Mico Layout",
         "rawType": "int64",
         "type": "integer"
        },
        {
         "name": "Munnekollal",
         "rawType": "int64",
         "type": "integer"
        },
        {
         "name": "Murugeshpalya",
         "rawType": "int64",
         "type": "integer"
        },
        {
         "name": "Mysore Road",
         "rawType": "int64",
         "type": "integer"
        },
        {
         "name": "NGR Layout",
         "rawType": "int64",
         "type": "integer"
        },
        {
         "name": "NRI Layout",
         "rawType": "int64",
         "type": "integer"
        },
        {
         "name": "Nagadevanahalli",
         "rawType": "int64",
         "type": "integer"
        },
        {
         "name": "Naganathapura",
         "rawType": "int64",
         "type": "integer"
        },
        {
         "name": "Nagappa Reddy Layout",
         "rawType": "int64",
         "type": "integer"
        },
        {
         "name": "Nagarbhavi",
         "rawType": "int64",
         "type": "integer"
        },
        {
         "name": "Nagasandra",
         "rawType": "int64",
         "type": "integer"
        },
        {
         "name": "Nagavara",
         "rawType": "int64",
         "type": "integer"
        },
        {
         "name": "Nagavarapalya",
         "rawType": "int64",
         "type": "integer"
        },
        {
         "name": "Narayanapura",
         "rawType": "int64",
         "type": "integer"
        },
        {
         "name": "Neeladri Nagar",
         "rawType": "int64",
         "type": "integer"
        },
        {
         "name": "Nehru Nagar",
         "rawType": "int64",
         "type": "integer"
        },
        {
         "name": "OMBR Layout",
         "rawType": "int64",
         "type": "integer"
        },
        {
         "name": "Old Airport Road",
         "rawType": "int64",
         "type": "integer"
        },
        {
         "name": "Old Madras Road",
         "rawType": "int64",
         "type": "integer"
        },
        {
         "name": "Padmanabhanagar",
         "rawType": "int64",
         "type": "integer"
        },
        {
         "name": "Pai Layout",
         "rawType": "int64",
         "type": "integer"
        },
        {
         "name": "Panathur",
         "rawType": "int64",
         "type": "integer"
        },
        {
         "name": "Parappana Agrahara",
         "rawType": "int64",
         "type": "integer"
        },
        {
         "name": "Pattandur Agrahara",
         "rawType": "int64",
         "type": "integer"
        },
        {
         "name": "Poorna Pragna Layout",
         "rawType": "int64",
         "type": "integer"
        },
        {
         "name": "Prithvi Layout",
         "rawType": "int64",
         "type": "integer"
        },
        {
         "name": "R.T. Nagar",
         "rawType": "int64",
         "type": "integer"
        },
        {
         "name": "Rachenahalli",
         "rawType": "int64",
         "type": "integer"
        },
        {
         "name": "Raja Rajeshwari Nagar",
         "rawType": "int64",
         "type": "integer"
        },
        {
         "name": "Rajaji Nagar",
         "rawType": "int64",
         "type": "integer"
        },
        {
         "name": "Rajiv Nagar",
         "rawType": "int64",
         "type": "integer"
        },
        {
         "name": "Ramagondanahalli",
         "rawType": "int64",
         "type": "integer"
        },
        {
         "name": "Ramamurthy Nagar",
         "rawType": "int64",
         "type": "integer"
        },
        {
         "name": "Rayasandra",
         "rawType": "int64",
         "type": "integer"
        },
        {
         "name": "Sadashiva Nagar",
         "rawType": "int64",
         "type": "integer"
        },
        {
         "name": "Sahakara Nagar",
         "rawType": "int64",
         "type": "integer"
        },
        {
         "name": "Sanjay nagar",
         "rawType": "int64",
         "type": "integer"
        },
        {
         "name": "Sarakki Nagar",
         "rawType": "int64",
         "type": "integer"
        },
        {
         "name": "Sarjapur",
         "rawType": "int64",
         "type": "integer"
        },
        {
         "name": "Sarjapur  Road",
         "rawType": "int64",
         "type": "integer"
        },
        {
         "name": "Sarjapura - Attibele Road",
         "rawType": "int64",
         "type": "integer"
        },
        {
         "name": "Sector 2 HSR Layout",
         "rawType": "int64",
         "type": "integer"
        },
        {
         "name": "Sector 7 HSR Layout",
         "rawType": "int64",
         "type": "integer"
        },
        {
         "name": "Seegehalli",
         "rawType": "int64",
         "type": "integer"
        },
        {
         "name": "Shampura",
         "rawType": "int64",
         "type": "integer"
        },
        {
         "name": "Shivaji Nagar",
         "rawType": "int64",
         "type": "integer"
        },
        {
         "name": "Singasandra",
         "rawType": "int64",
         "type": "integer"
        },
        {
         "name": "Somasundara Palya",
         "rawType": "int64",
         "type": "integer"
        },
        {
         "name": "Sompura",
         "rawType": "int64",
         "type": "integer"
        },
        {
         "name": "Sonnenahalli",
         "rawType": "int64",
         "type": "integer"
        },
        {
         "name": "Subramanyapura",
         "rawType": "int64",
         "type": "integer"
        },
        {
         "name": "Sultan Palaya",
         "rawType": "int64",
         "type": "integer"
        },
        {
         "name": "TC Palaya",
         "rawType": "int64",
         "type": "integer"
        },
        {
         "name": "Talaghattapura",
         "rawType": "int64",
         "type": "integer"
        },
        {
         "name": "Thanisandra",
         "rawType": "int64",
         "type": "integer"
        },
        {
         "name": "Thigalarapalya",
         "rawType": "int64",
         "type": "integer"
        },
        {
         "name": "Thubarahalli",
         "rawType": "int64",
         "type": "integer"
        },
        {
         "name": "Thyagaraja Nagar",
         "rawType": "int64",
         "type": "integer"
        },
        {
         "name": "Tindlu",
         "rawType": "int64",
         "type": "integer"
        },
        {
         "name": "Tumkur Road",
         "rawType": "int64",
         "type": "integer"
        },
        {
         "name": "Ulsoor",
         "rawType": "int64",
         "type": "integer"
        },
        {
         "name": "Uttarahalli",
         "rawType": "int64",
         "type": "integer"
        },
        {
         "name": "Varthur",
         "rawType": "int64",
         "type": "integer"
        },
        {
         "name": "Varthur Road",
         "rawType": "int64",
         "type": "integer"
        },
        {
         "name": "Vasanthapura",
         "rawType": "int64",
         "type": "integer"
        },
        {
         "name": "Vidyaranyapura",
         "rawType": "int64",
         "type": "integer"
        },
        {
         "name": "Vijayanagar",
         "rawType": "int64",
         "type": "integer"
        },
        {
         "name": "Vishveshwarya Layout",
         "rawType": "int64",
         "type": "integer"
        },
        {
         "name": "Vishwapriya Layout",
         "rawType": "int64",
         "type": "integer"
        },
        {
         "name": "Vittasandra",
         "rawType": "int64",
         "type": "integer"
        },
        {
         "name": "Whitefield",
         "rawType": "int64",
         "type": "integer"
        },
        {
         "name": "Yelachenahalli",
         "rawType": "int64",
         "type": "integer"
        },
        {
         "name": "Yelahanka",
         "rawType": "int64",
         "type": "integer"
        },
        {
         "name": "Yelahanka New Town",
         "rawType": "int64",
         "type": "integer"
        },
        {
         "name": "Yelenahalli",
         "rawType": "int64",
         "type": "integer"
        },
        {
         "name": "Yeshwanthpur",
         "rawType": "int64",
         "type": "integer"
        }
       ],
       "conversionMethod": "pd.DataFrame",
       "ref": "b8c47389-29f9-4fd4-8599-7cf0bc92a949",
       "rows": [
        [
         "1",
         "1250.0",
         "2.0",
         "40.0",
         "2",
         "1",
         "0",
         "0",
         "0",
         "0",
         "0",
         "0",
         "0",
         "0",
         "0",
         "0",
         "0",
         "0",
         "0",
         "0",
         "0",
         "0",
         "0",
         "0",
         "0",
         "0",
         "0",
         "0",
         "0",
         "0",
         "0",
         "0",
         "0",
         "0",
         "0",
         "0",
         "0",
         "0",
         "0",
         "0",
         "0",
         "0",
         "0",
         "0",
         "0",
         "0",
         "0",
         "0",
         "0",
         "0",
         "0",
         "0",
         "0",
         "0",
         "0",
         "0",
         "0",
         "0",
         "0",
         "0",
         "0",
         "0",
         "0",
         "0",
         "0",
         "0",
         "0",
         "0",
         "0",
         "0",
         "0",
         "0",
         "0",
         "0",
         "0",
         "0",
         "0",
         "0",
         "0",
         "0",
         "0",
         "0",
         "0",
         "0",
         "0",
         "0",
         "0",
         "0",
         "0",
         "0",
         "0",
         "0",
         "0",
         "0",
         "0",
         "0",
         "0",
         "0",
         "0",
         "0",
         "0",
         "0",
         "0",
         "0",
         "0",
         "0",
         "0",
         "0",
         "0",
         "0",
         "0",
         "0",
         "0",
         "0",
         "0",
         "0",
         "0",
         "0",
         "0",
         "0",
         "0",
         "0",
         "0",
         "0",
         "0",
         "0",
         "0",
         "0",
         "0",
         "0",
         "0",
         "0",
         "0",
         "0",
         "0",
         "0",
         "0",
         "0",
         "0",
         "0",
         "0",
         "0",
         "0",
         "0",
         "0",
         "0",
         "0",
         "0",
         "0",
         "0",
         "0",
         "0",
         "0",
         "0",
         "0",
         "0",
         "0",
         "0",
         "0",
         "0",
         "0",
         "0",
         "0",
         "0",
         "0",
         "0",
         "0",
         "0",
         "0",
         "0",
         "0",
         "0",
         "0",
         "0",
         "0",
         "0",
         "0",
         "0",
         "0",
         "0",
         "0",
         "0",
         "0",
         "0",
         "0",
         "0",
         "0",
         "0",
         "0",
         "0",
         "0",
         "0",
         "0",
         "0",
         "0",
         "0",
         "0",
         "0",
         "0",
         "0",
         "0",
         "0",
         "0",
         "0",
         "0",
         "0",
         "0",
         "0",
         "0",
         "0",
         "0",
         "0",
         "0",
         "0",
         "0",
         "0",
         "0",
         "0",
         "0",
         "0",
         "0",
         "0",
         "0",
         "0",
         "0",
         "0",
         "0",
         "0",
         "0",
         "0",
         "0",
         "0",
         "0",
         "0",
         "0",
         "0",
         "0",
         "0",
         "0",
         "0",
         "0",
         "0",
         "0",
         "0",
         "0",
         "0",
         "0",
         "0",
         "0",
         "0",
         "0",
         "0",
         "0",
         "0",
         "0",
         "0",
         "0",
         "0"
        ],
        [
         "2",
         "1200.0",
         "2.0",
         "83.0",
         "2",
         "1",
         "0",
         "0",
         "0",
         "0",
         "0",
         "0",
         "0",
         "0",
         "0",
         "0",
         "0",
         "0",
         "0",
         "0",
         "0",
         "0",
         "0",
         "0",
         "0",
         "0",
         "0",
         "0",
         "0",
         "0",
         "0",
         "0",
         "0",
         "0",
         "0",
         "0",
         "0",
         "0",
         "0",
         "0",
         "0",
         "0",
         "0",
         "0",
         "0",
         "0",
         "0",
         "0",
         "0",
         "0",
         "0",
         "0",
         "0",
         "0",
         "0",
         "0",
         "0",
         "0",
         "0",
         "0",
         "0",
         "0",
         "0",
         "0",
         "0",
         "0",
         "0",
         "0",
         "0",
         "0",
         "0",
         "0",
         "0",
         "0",
         "0",
         "0",
         "0",
         "0",
         "0",
         "0",
         "0",
         "0",
         "0",
         "0",
         "0",
         "0",
         "0",
         "0",
         "0",
         "0",
         "0",
         "0",
         "0",
         "0",
         "0",
         "0",
         "0",
         "0",
         "0",
         "0",
         "0",
         "0",
         "0",
         "0",
         "0",
         "0",
         "0",
         "0",
         "0",
         "0",
         "0",
         "0",
         "0",
         "0",
         "0",
         "0",
         "0",
         "0",
         "0",
         "0",
         "0",
         "0",
         "0",
         "0",
         "0",
         "0",
         "0",
         "0",
         "0",
         "0",
         "0",
         "0",
         "0",
         "0",
         "0",
         "0",
         "0",
         "0",
         "0",
         "0",
         "0",
         "0",
         "0",
         "0",
         "0",
         "0",
         "0",
         "0",
         "0",
         "0",
         "0",
         "0",
         "0",
         "0",
         "0",
         "0",
         "0",
         "0",
         "0",
         "0",
         "0",
         "0",
         "0",
         "0",
         "0",
         "0",
         "0",
         "0",
         "0",
         "0",
         "0",
         "0",
         "0",
         "0",
         "0",
         "0",
         "0",
         "0",
         "0",
         "0",
         "0",
         "0",
         "0",
         "0",
         "0",
         "0",
         "0",
         "0",
         "0",
         "0",
         "0",
         "0",
         "0",
         "0",
         "0",
         "0",
         "0",
         "0",
         "0",
         "0",
         "0",
         "0",
         "0",
         "0",
         "0",
         "0",
         "0",
         "0",
         "0",
         "0",
         "0",
         "0",
         "0",
         "0",
         "0",
         "0",
         "0",
         "0",
         "0",
         "0",
         "0",
         "0",
         "0",
         "0",
         "0",
         "0",
         "0",
         "0",
         "0",
         "0",
         "0",
         "0",
         "0",
         "0",
         "0",
         "0",
         "0",
         "0",
         "0",
         "0",
         "0",
         "0",
         "0",
         "0",
         "0",
         "0",
         "0",
         "0",
         "0",
         "0",
         "0",
         "0",
         "0",
         "0",
         "0",
         "0",
         "0",
         "0"
        ],
        [
         "3",
         "1170.0",
         "2.0",
         "40.0",
         "2",
         "1",
         "0",
         "0",
         "0",
         "0",
         "0",
         "0",
         "0",
         "0",
         "0",
         "0",
         "0",
         "0",
         "0",
         "0",
         "0",
         "0",
         "0",
         "0",
         "0",
         "0",
         "0",
         "0",
         "0",
         "0",
         "0",
         "0",
         "0",
         "0",
         "0",
         "0",
         "0",
         "0",
         "0",
         "0",
         "0",
         "0",
         "0",
         "0",
         "0",
         "0",
         "0",
         "0",
         "0",
         "0",
         "0",
         "0",
         "0",
         "0",
         "0",
         "0",
         "0",
         "0",
         "0",
         "0",
         "0",
         "0",
         "0",
         "0",
         "0",
         "0",
         "0",
         "0",
         "0",
         "0",
         "0",
         "0",
         "0",
         "0",
         "0",
         "0",
         "0",
         "0",
         "0",
         "0",
         "0",
         "0",
         "0",
         "0",
         "0",
         "0",
         "0",
         "0",
         "0",
         "0",
         "0",
         "0",
         "0",
         "0",
         "0",
         "0",
         "0",
         "0",
         "0",
         "0",
         "0",
         "0",
         "0",
         "0",
         "0",
         "0",
         "0",
         "0",
         "0",
         "0",
         "0",
         "0",
         "0",
         "0",
         "0",
         "0",
         "0",
         "0",
         "0",
         "0",
         "0",
         "0",
         "0",
         "0",
         "0",
         "0",
         "0",
         "0",
         "0",
         "0",
         "0",
         "0",
         "0",
         "0",
         "0",
         "0",
         "0",
         "0",
         "0",
         "0",
         "0",
         "0",
         "0",
         "0",
         "0",
         "0",
         "0",
         "0",
         "0",
         "0",
         "0",
         "0",
         "0",
         "0",
         "0",
         "0",
         "0",
         "0",
         "0",
         "0",
         "0",
         "0",
         "0",
         "0",
         "0",
         "0",
         "0",
         "0",
         "0",
         "0",
         "0",
         "0",
         "0",
         "0",
         "0",
         "0",
         "0",
         "0",
         "0",
         "0",
         "0",
         "0",
         "0",
         "0",
         "0",
         "0",
         "0",
         "0",
         "0",
         "0",
         "0",
         "0",
         "0",
         "0",
         "0",
         "0",
         "0",
         "0",
         "0",
         "0",
         "0",
         "0",
         "0",
         "0",
         "0",
         "0",
         "0",
         "0",
         "0",
         "0",
         "0",
         "0",
         "0",
         "0",
         "0",
         "0",
         "0",
         "0",
         "0",
         "0",
         "0",
         "0",
         "0",
         "0",
         "0",
         "0",
         "0",
         "0",
         "0",
         "0",
         "0",
         "0",
         "0",
         "0",
         "0",
         "0",
         "0",
         "0",
         "0",
         "0",
         "0",
         "0",
         "0",
         "0",
         "0",
         "0",
         "0",
         "0",
         "0",
         "0",
         "0",
         "0",
         "0",
         "0",
         "0",
         "0",
         "0",
         "0"
        ],
        [
         "4",
         "1425.0",
         "2.0",
         "65.0",
         "3",
         "1",
         "0",
         "0",
         "0",
         "0",
         "0",
         "0",
         "0",
         "0",
         "0",
         "0",
         "0",
         "0",
         "0",
         "0",
         "0",
         "0",
         "0",
         "0",
         "0",
         "0",
         "0",
         "0",
         "0",
         "0",
         "0",
         "0",
         "0",
         "0",
         "0",
         "0",
         "0",
         "0",
         "0",
         "0",
         "0",
         "0",
         "0",
         "0",
         "0",
         "0",
         "0",
         "0",
         "0",
         "0",
         "0",
         "0",
         "0",
         "0",
         "0",
         "0",
         "0",
         "0",
         "0",
         "0",
         "0",
         "0",
         "0",
         "0",
         "0",
         "0",
         "0",
         "0",
         "0",
         "0",
         "0",
         "0",
         "0",
         "0",
         "0",
         "0",
         "0",
         "0",
         "0",
         "0",
         "0",
         "0",
         "0",
         "0",
         "0",
         "0",
         "0",
         "0",
         "0",
         "0",
         "0",
         "0",
         "0",
         "0",
         "0",
         "0",
         "0",
         "0",
         "0",
         "0",
         "0",
         "0",
         "0",
         "0",
         "0",
         "0",
         "0",
         "0",
         "0",
         "0",
         "0",
         "0",
         "0",
         "0",
         "0",
         "0",
         "0",
         "0",
         "0",
         "0",
         "0",
         "0",
         "0",
         "0",
         "0",
         "0",
         "0",
         "0",
         "0",
         "0",
         "0",
         "0",
         "0",
         "0",
         "0",
         "0",
         "0",
         "0",
         "0",
         "0",
         "0",
         "0",
         "0",
         "0",
         "0",
         "0",
         "0",
         "0",
         "0",
         "0",
         "0",
         "0",
         "0",
         "0",
         "0",
         "0",
         "0",
         "0",
         "0",
         "0",
         "0",
         "0",
         "0",
         "0",
         "0",
         "0",
         "0",
         "0",
         "0",
         "0",
         "0",
         "0",
         "0",
         "0",
         "0",
         "0",
         "0",
         "0",
         "0",
         "0",
         "0",
         "0",
         "0",
         "0",
         "0",
         "0",
         "0",
         "0",
         "0",
         "0",
         "0",
         "0",
         "0",
         "0",
         "0",
         "0",
         "0",
         "0",
         "0",
         "0",
         "0",
         "0",
         "0",
         "0",
         "0",
         "0",
         "0",
         "0",
         "0",
         "0",
         "0",
         "0",
         "0",
         "0",
         "0",
         "0",
         "0",
         "0",
         "0",
         "0",
         "0",
         "0",
         "0",
         "0",
         "0",
         "0",
         "0",
         "0",
         "0",
         "0",
         "0",
         "0",
         "0",
         "0",
         "0",
         "0",
         "0",
         "0",
         "0",
         "0",
         "0",
         "0",
         "0",
         "0",
         "0",
         "0",
         "0",
         "0",
         "0",
         "0",
         "0",
         "0",
         "0",
         "0",
         "0",
         "0",
         "0",
         "0"
        ],
        [
         "5",
         "947.0",
         "2.0",
         "43.0",
         "2",
         "1",
         "0",
         "0",
         "0",
         "0",
         "0",
         "0",
         "0",
         "0",
         "0",
         "0",
         "0",
         "0",
         "0",
         "0",
         "0",
         "0",
         "0",
         "0",
         "0",
         "0",
         "0",
         "0",
         "0",
         "0",
         "0",
         "0",
         "0",
         "0",
         "0",
         "0",
         "0",
         "0",
         "0",
         "0",
         "0",
         "0",
         "0",
         "0",
         "0",
         "0",
         "0",
         "0",
         "0",
         "0",
         "0",
         "0",
         "0",
         "0",
         "0",
         "0",
         "0",
         "0",
         "0",
         "0",
         "0",
         "0",
         "0",
         "0",
         "0",
         "0",
         "0",
         "0",
         "0",
         "0",
         "0",
         "0",
         "0",
         "0",
         "0",
         "0",
         "0",
         "0",
         "0",
         "0",
         "0",
         "0",
         "0",
         "0",
         "0",
         "0",
         "0",
         "0",
         "0",
         "0",
         "0",
         "0",
         "0",
         "0",
         "0",
         "0",
         "0",
         "0",
         "0",
         "0",
         "0",
         "0",
         "0",
         "0",
         "0",
         "0",
         "0",
         "0",
         "0",
         "0",
         "0",
         "0",
         "0",
         "0",
         "0",
         "0",
         "0",
         "0",
         "0",
         "0",
         "0",
         "0",
         "0",
         "0",
         "0",
         "0",
         "0",
         "0",
         "0",
         "0",
         "0",
         "0",
         "0",
         "0",
         "0",
         "0",
         "0",
         "0",
         "0",
         "0",
         "0",
         "0",
         "0",
         "0",
         "0",
         "0",
         "0",
         "0",
         "0",
         "0",
         "0",
         "0",
         "0",
         "0",
         "0",
         "0",
         "0",
         "0",
         "0",
         "0",
         "0",
         "0",
         "0",
         "0",
         "0",
         "0",
         "0",
         "0",
         "0",
         "0",
         "0",
         "0",
         "0",
         "0",
         "0",
         "0",
         "0",
         "0",
         "0",
         "0",
         "0",
         "0",
         "0",
         "0",
         "0",
         "0",
         "0",
         "0",
         "0",
         "0",
         "0",
         "0",
         "0",
         "0",
         "0",
         "0",
         "0",
         "0",
         "0",
         "0",
         "0",
         "0",
         "0",
         "0",
         "0",
         "0",
         "0",
         "0",
         "0",
         "0",
         "0",
         "0",
         "0",
         "0",
         "0",
         "0",
         "0",
         "0",
         "0",
         "0",
         "0",
         "0",
         "0",
         "0",
         "0",
         "0",
         "0",
         "0",
         "0",
         "0",
         "0",
         "0",
         "0",
         "0",
         "0",
         "0",
         "0",
         "0",
         "0",
         "0",
         "0",
         "0",
         "0",
         "0",
         "0",
         "0",
         "0",
         "0",
         "0",
         "0",
         "0",
         "0",
         "0",
         "0",
         "0",
         "0",
         "0",
         "0"
        ]
       ],
       "shape": {
        "columns": 257,
        "rows": 5
       }
      },
      "text/html": [
       "<div>\n",
       "<style scoped>\n",
       "    .dataframe tbody tr th:only-of-type {\n",
       "        vertical-align: middle;\n",
       "    }\n",
       "\n",
       "    .dataframe tbody tr th {\n",
       "        vertical-align: top;\n",
       "    }\n",
       "\n",
       "    .dataframe thead th {\n",
       "        text-align: right;\n",
       "    }\n",
       "</style>\n",
       "<table border=\"1\" class=\"dataframe\">\n",
       "  <thead>\n",
       "    <tr style=\"text-align: right;\">\n",
       "      <th></th>\n",
       "      <th>total_sqft</th>\n",
       "      <th>bath</th>\n",
       "      <th>price</th>\n",
       "      <th>bhk</th>\n",
       "      <th>Devarachikkanahalli</th>\n",
       "      <th>1st Block Jayanagar</th>\n",
       "      <th>1st Block Koramangala</th>\n",
       "      <th>1st Phase JP Nagar</th>\n",
       "      <th>2nd Phase Judicial Layout</th>\n",
       "      <th>2nd Stage Nagarbhavi</th>\n",
       "      <th>...</th>\n",
       "      <th>Vijayanagar</th>\n",
       "      <th>Vishveshwarya Layout</th>\n",
       "      <th>Vishwapriya Layout</th>\n",
       "      <th>Vittasandra</th>\n",
       "      <th>Whitefield</th>\n",
       "      <th>Yelachenahalli</th>\n",
       "      <th>Yelahanka</th>\n",
       "      <th>Yelahanka New Town</th>\n",
       "      <th>Yelenahalli</th>\n",
       "      <th>Yeshwanthpur</th>\n",
       "    </tr>\n",
       "  </thead>\n",
       "  <tbody>\n",
       "    <tr>\n",
       "      <th>1</th>\n",
       "      <td>1250.0</td>\n",
       "      <td>2.0</td>\n",
       "      <td>40.0</td>\n",
       "      <td>2</td>\n",
       "      <td>1</td>\n",
       "      <td>0</td>\n",
       "      <td>0</td>\n",
       "      <td>0</td>\n",
       "      <td>0</td>\n",
       "      <td>0</td>\n",
       "      <td>...</td>\n",
       "      <td>0</td>\n",
       "      <td>0</td>\n",
       "      <td>0</td>\n",
       "      <td>0</td>\n",
       "      <td>0</td>\n",
       "      <td>0</td>\n",
       "      <td>0</td>\n",
       "      <td>0</td>\n",
       "      <td>0</td>\n",
       "      <td>0</td>\n",
       "    </tr>\n",
       "    <tr>\n",
       "      <th>2</th>\n",
       "      <td>1200.0</td>\n",
       "      <td>2.0</td>\n",
       "      <td>83.0</td>\n",
       "      <td>2</td>\n",
       "      <td>1</td>\n",
       "      <td>0</td>\n",
       "      <td>0</td>\n",
       "      <td>0</td>\n",
       "      <td>0</td>\n",
       "      <td>0</td>\n",
       "      <td>...</td>\n",
       "      <td>0</td>\n",
       "      <td>0</td>\n",
       "      <td>0</td>\n",
       "      <td>0</td>\n",
       "      <td>0</td>\n",
       "      <td>0</td>\n",
       "      <td>0</td>\n",
       "      <td>0</td>\n",
       "      <td>0</td>\n",
       "      <td>0</td>\n",
       "    </tr>\n",
       "    <tr>\n",
       "      <th>3</th>\n",
       "      <td>1170.0</td>\n",
       "      <td>2.0</td>\n",
       "      <td>40.0</td>\n",
       "      <td>2</td>\n",
       "      <td>1</td>\n",
       "      <td>0</td>\n",
       "      <td>0</td>\n",
       "      <td>0</td>\n",
       "      <td>0</td>\n",
       "      <td>0</td>\n",
       "      <td>...</td>\n",
       "      <td>0</td>\n",
       "      <td>0</td>\n",
       "      <td>0</td>\n",
       "      <td>0</td>\n",
       "      <td>0</td>\n",
       "      <td>0</td>\n",
       "      <td>0</td>\n",
       "      <td>0</td>\n",
       "      <td>0</td>\n",
       "      <td>0</td>\n",
       "    </tr>\n",
       "    <tr>\n",
       "      <th>4</th>\n",
       "      <td>1425.0</td>\n",
       "      <td>2.0</td>\n",
       "      <td>65.0</td>\n",
       "      <td>3</td>\n",
       "      <td>1</td>\n",
       "      <td>0</td>\n",
       "      <td>0</td>\n",
       "      <td>0</td>\n",
       "      <td>0</td>\n",
       "      <td>0</td>\n",
       "      <td>...</td>\n",
       "      <td>0</td>\n",
       "      <td>0</td>\n",
       "      <td>0</td>\n",
       "      <td>0</td>\n",
       "      <td>0</td>\n",
       "      <td>0</td>\n",
       "      <td>0</td>\n",
       "      <td>0</td>\n",
       "      <td>0</td>\n",
       "      <td>0</td>\n",
       "    </tr>\n",
       "    <tr>\n",
       "      <th>5</th>\n",
       "      <td>947.0</td>\n",
       "      <td>2.0</td>\n",
       "      <td>43.0</td>\n",
       "      <td>2</td>\n",
       "      <td>1</td>\n",
       "      <td>0</td>\n",
       "      <td>0</td>\n",
       "      <td>0</td>\n",
       "      <td>0</td>\n",
       "      <td>0</td>\n",
       "      <td>...</td>\n",
       "      <td>0</td>\n",
       "      <td>0</td>\n",
       "      <td>0</td>\n",
       "      <td>0</td>\n",
       "      <td>0</td>\n",
       "      <td>0</td>\n",
       "      <td>0</td>\n",
       "      <td>0</td>\n",
       "      <td>0</td>\n",
       "      <td>0</td>\n",
       "    </tr>\n",
       "  </tbody>\n",
       "</table>\n",
       "<p>5 rows × 257 columns</p>\n",
       "</div>"
      ],
      "text/plain": [
       "   total_sqft  bath  price  bhk   Devarachikkanahalli  1st Block Jayanagar  \\\n",
       "1      1250.0   2.0   40.0    2                     1                    0   \n",
       "2      1200.0   2.0   83.0    2                     1                    0   \n",
       "3      1170.0   2.0   40.0    2                     1                    0   \n",
       "4      1425.0   2.0   65.0    3                     1                    0   \n",
       "5       947.0   2.0   43.0    2                     1                    0   \n",
       "\n",
       "   1st Block Koramangala  1st Phase JP Nagar  2nd Phase Judicial Layout  \\\n",
       "1                      0                   0                          0   \n",
       "2                      0                   0                          0   \n",
       "3                      0                   0                          0   \n",
       "4                      0                   0                          0   \n",
       "5                      0                   0                          0   \n",
       "\n",
       "   2nd Stage Nagarbhavi  ...  Vijayanagar  Vishveshwarya Layout  \\\n",
       "1                     0  ...            0                     0   \n",
       "2                     0  ...            0                     0   \n",
       "3                     0  ...            0                     0   \n",
       "4                     0  ...            0                     0   \n",
       "5                     0  ...            0                     0   \n",
       "\n",
       "   Vishwapriya Layout  Vittasandra  Whitefield  Yelachenahalli  Yelahanka  \\\n",
       "1                   0            0           0               0          0   \n",
       "2                   0            0           0               0          0   \n",
       "3                   0            0           0               0          0   \n",
       "4                   0            0           0               0          0   \n",
       "5                   0            0           0               0          0   \n",
       "\n",
       "   Yelahanka New Town  Yelenahalli  Yeshwanthpur  \n",
       "1                   0            0             0  \n",
       "2                   0            0             0  \n",
       "3                   0            0             0  \n",
       "4                   0            0             0  \n",
       "5                   0            0             0  \n",
       "\n",
       "[5 rows x 257 columns]"
      ]
     },
     "execution_count": 31,
     "metadata": {},
     "output_type": "execute_result"
    }
   ],
   "source": [
    "#Encoding the 'location' column using one hot encoding. The encoding will be represented as 1 and 0. We will have the introduction of a lot of columns in the dataset.\n",
    "dummies = pd.get_dummies(df5['location']).astype(int)\n",
    "df5 = pd.concat([df5, dummies.drop('Other', axis='columns')], axis='columns')\n",
    "df5.head()\n",
    "df5 = df5.drop(['location'], axis='columns')\n",
    "df5.head()"
   ]
  },
  {
   "cell_type": "code",
   "execution_count": 32,
   "metadata": {},
   "outputs": [
    {
     "data": {
      "application/vnd.microsoft.datawrangler.viewer.v0+json": {
       "columns": [
        {
         "name": "index",
         "rawType": "int64",
         "type": "integer"
        },
        {
         "name": "total_sqft",
         "rawType": "float64",
         "type": "float"
        },
        {
         "name": "bath",
         "rawType": "float64",
         "type": "float"
        },
        {
         "name": "bhk",
         "rawType": "int64",
         "type": "integer"
        },
        {
         "name": " Devarachikkanahalli",
         "rawType": "int64",
         "type": "integer"
        },
        {
         "name": "1st Block Jayanagar",
         "rawType": "int64",
         "type": "integer"
        },
        {
         "name": "1st Block Koramangala",
         "rawType": "int64",
         "type": "integer"
        },
        {
         "name": "1st Phase JP Nagar",
         "rawType": "int64",
         "type": "integer"
        },
        {
         "name": "2nd Phase Judicial Layout",
         "rawType": "int64",
         "type": "integer"
        },
        {
         "name": "2nd Stage Nagarbhavi",
         "rawType": "int64",
         "type": "integer"
        },
        {
         "name": "5th Block Hbr Layout",
         "rawType": "int64",
         "type": "integer"
        },
        {
         "name": "5th Phase JP Nagar",
         "rawType": "int64",
         "type": "integer"
        },
        {
         "name": "6th Phase JP Nagar",
         "rawType": "int64",
         "type": "integer"
        },
        {
         "name": "7th Phase JP Nagar",
         "rawType": "int64",
         "type": "integer"
        },
        {
         "name": "8th Phase JP Nagar",
         "rawType": "int64",
         "type": "integer"
        },
        {
         "name": "9th Phase JP Nagar",
         "rawType": "int64",
         "type": "integer"
        },
        {
         "name": "AECS Layout",
         "rawType": "int64",
         "type": "integer"
        },
        {
         "name": "Abbigere",
         "rawType": "int64",
         "type": "integer"
        },
        {
         "name": "Akshaya Nagar",
         "rawType": "int64",
         "type": "integer"
        },
        {
         "name": "Ambalipura",
         "rawType": "int64",
         "type": "integer"
        },
        {
         "name": "Ambedkar Nagar",
         "rawType": "int64",
         "type": "integer"
        },
        {
         "name": "Amruthahalli",
         "rawType": "int64",
         "type": "integer"
        },
        {
         "name": "Anandapura",
         "rawType": "int64",
         "type": "integer"
        },
        {
         "name": "Ananth Nagar",
         "rawType": "int64",
         "type": "integer"
        },
        {
         "name": "Anekal",
         "rawType": "int64",
         "type": "integer"
        },
        {
         "name": "Anjanapura",
         "rawType": "int64",
         "type": "integer"
        },
        {
         "name": "Ardendale",
         "rawType": "int64",
         "type": "integer"
        },
        {
         "name": "Arekere",
         "rawType": "int64",
         "type": "integer"
        },
        {
         "name": "Attibele",
         "rawType": "int64",
         "type": "integer"
        },
        {
         "name": "BEML Layout",
         "rawType": "int64",
         "type": "integer"
        },
        {
         "name": "BTM 1st Stage",
         "rawType": "int64",
         "type": "integer"
        },
        {
         "name": "BTM 2nd Stage",
         "rawType": "int64",
         "type": "integer"
        },
        {
         "name": "BTM Layout",
         "rawType": "int64",
         "type": "integer"
        },
        {
         "name": "Babusapalaya",
         "rawType": "int64",
         "type": "integer"
        },
        {
         "name": "Badavala Nagar",
         "rawType": "int64",
         "type": "integer"
        },
        {
         "name": "Balagere",
         "rawType": "int64",
         "type": "integer"
        },
        {
         "name": "Banashankari",
         "rawType": "int64",
         "type": "integer"
        },
        {
         "name": "Banashankari Stage II",
         "rawType": "int64",
         "type": "integer"
        },
        {
         "name": "Banashankari Stage III",
         "rawType": "int64",
         "type": "integer"
        },
        {
         "name": "Banashankari Stage V",
         "rawType": "int64",
         "type": "integer"
        },
        {
         "name": "Banashankari Stage VI",
         "rawType": "int64",
         "type": "integer"
        },
        {
         "name": "Banaswadi",
         "rawType": "int64",
         "type": "integer"
        },
        {
         "name": "Banjara Layout",
         "rawType": "int64",
         "type": "integer"
        },
        {
         "name": "Bannerghatta",
         "rawType": "int64",
         "type": "integer"
        },
        {
         "name": "Bannerghatta Road",
         "rawType": "int64",
         "type": "integer"
        },
        {
         "name": "Basapura",
         "rawType": "int64",
         "type": "integer"
        },
        {
         "name": "Basavangudi",
         "rawType": "int64",
         "type": "integer"
        },
        {
         "name": "Basaveshwara Nagar",
         "rawType": "int64",
         "type": "integer"
        },
        {
         "name": "Battarahalli",
         "rawType": "int64",
         "type": "integer"
        },
        {
         "name": "Begur",
         "rawType": "int64",
         "type": "integer"
        },
        {
         "name": "Begur Road",
         "rawType": "int64",
         "type": "integer"
        },
        {
         "name": "Bellandur",
         "rawType": "int64",
         "type": "integer"
        },
        {
         "name": "Benson Town",
         "rawType": "int64",
         "type": "integer"
        },
        {
         "name": "Bharathi Nagar",
         "rawType": "int64",
         "type": "integer"
        },
        {
         "name": "Bhoganhalli",
         "rawType": "int64",
         "type": "integer"
        },
        {
         "name": "Billekahalli",
         "rawType": "int64",
         "type": "integer"
        },
        {
         "name": "Binny Pete",
         "rawType": "int64",
         "type": "integer"
        },
        {
         "name": "Bisuvanahalli",
         "rawType": "int64",
         "type": "integer"
        },
        {
         "name": "Bommanahalli",
         "rawType": "int64",
         "type": "integer"
        },
        {
         "name": "Bommasandra",
         "rawType": "int64",
         "type": "integer"
        },
        {
         "name": "Bommasandra Industrial Area",
         "rawType": "int64",
         "type": "integer"
        },
        {
         "name": "Bommenahalli",
         "rawType": "int64",
         "type": "integer"
        },
        {
         "name": "Brookefield",
         "rawType": "int64",
         "type": "integer"
        },
        {
         "name": "Budigere",
         "rawType": "int64",
         "type": "integer"
        },
        {
         "name": "CV Raman Nagar",
         "rawType": "int64",
         "type": "integer"
        },
        {
         "name": "Chamrajpet",
         "rawType": "int64",
         "type": "integer"
        },
        {
         "name": "Chandapura",
         "rawType": "int64",
         "type": "integer"
        },
        {
         "name": "Channasandra",
         "rawType": "int64",
         "type": "integer"
        },
        {
         "name": "Chikka Tirupathi",
         "rawType": "int64",
         "type": "integer"
        },
        {
         "name": "Chikkabanavar",
         "rawType": "int64",
         "type": "integer"
        },
        {
         "name": "Chikkalasandra",
         "rawType": "int64",
         "type": "integer"
        },
        {
         "name": "Choodasandra",
         "rawType": "int64",
         "type": "integer"
        },
        {
         "name": "Cooke Town",
         "rawType": "int64",
         "type": "integer"
        },
        {
         "name": "Cox Town",
         "rawType": "int64",
         "type": "integer"
        },
        {
         "name": "Cunningham Road",
         "rawType": "int64",
         "type": "integer"
        },
        {
         "name": "Dairy Circle",
         "rawType": "int64",
         "type": "integer"
        },
        {
         "name": "Dasanapura",
         "rawType": "int64",
         "type": "integer"
        },
        {
         "name": "Dasarahalli",
         "rawType": "int64",
         "type": "integer"
        },
        {
         "name": "Devanahalli",
         "rawType": "int64",
         "type": "integer"
        },
        {
         "name": "Dodda Nekkundi",
         "rawType": "int64",
         "type": "integer"
        },
        {
         "name": "Doddaballapur",
         "rawType": "int64",
         "type": "integer"
        },
        {
         "name": "Doddakallasandra",
         "rawType": "int64",
         "type": "integer"
        },
        {
         "name": "Doddathoguru",
         "rawType": "int64",
         "type": "integer"
        },
        {
         "name": "Dodsworth Layout",
         "rawType": "int64",
         "type": "integer"
        },
        {
         "name": "Domlur",
         "rawType": "int64",
         "type": "integer"
        },
        {
         "name": "Dommasandra",
         "rawType": "int64",
         "type": "integer"
        },
        {
         "name": "EPIP Zone",
         "rawType": "int64",
         "type": "integer"
        },
        {
         "name": "Electronic City",
         "rawType": "int64",
         "type": "integer"
        },
        {
         "name": "Electronic City Phase II",
         "rawType": "int64",
         "type": "integer"
        },
        {
         "name": "Electronics City Phase 1",
         "rawType": "int64",
         "type": "integer"
        },
        {
         "name": "Frazer Town",
         "rawType": "int64",
         "type": "integer"
        },
        {
         "name": "GM Palaya",
         "rawType": "int64",
         "type": "integer"
        },
        {
         "name": "Ganga Nagar",
         "rawType": "int64",
         "type": "integer"
        },
        {
         "name": "Garudachar Palya",
         "rawType": "int64",
         "type": "integer"
        },
        {
         "name": "Giri Nagar",
         "rawType": "int64",
         "type": "integer"
        },
        {
         "name": "Gollarapalya Hosahalli",
         "rawType": "int64",
         "type": "integer"
        },
        {
         "name": "Gottigere",
         "rawType": "int64",
         "type": "integer"
        },
        {
         "name": "Green Glen Layout",
         "rawType": "int64",
         "type": "integer"
        },
        {
         "name": "Gubbalala",
         "rawType": "int64",
         "type": "integer"
        },
        {
         "name": "Gunjur",
         "rawType": "int64",
         "type": "integer"
        },
        {
         "name": "Gunjur Palya",
         "rawType": "int64",
         "type": "integer"
        },
        {
         "name": "HAL 2nd Stage",
         "rawType": "int64",
         "type": "integer"
        },
        {
         "name": "HBR Layout",
         "rawType": "int64",
         "type": "integer"
        },
        {
         "name": "HRBR Layout",
         "rawType": "int64",
         "type": "integer"
        },
        {
         "name": "HSR Layout",
         "rawType": "int64",
         "type": "integer"
        },
        {
         "name": "Haralur Road",
         "rawType": "int64",
         "type": "integer"
        },
        {
         "name": "Harlur",
         "rawType": "int64",
         "type": "integer"
        },
        {
         "name": "Hebbal",
         "rawType": "int64",
         "type": "integer"
        },
        {
         "name": "Hebbal Kempapura",
         "rawType": "int64",
         "type": "integer"
        },
        {
         "name": "Hegde Nagar",
         "rawType": "int64",
         "type": "integer"
        },
        {
         "name": "Hennur",
         "rawType": "int64",
         "type": "integer"
        },
        {
         "name": "Hennur Road",
         "rawType": "int64",
         "type": "integer"
        },
        {
         "name": "Hoodi",
         "rawType": "int64",
         "type": "integer"
        },
        {
         "name": "Horamavu Agara",
         "rawType": "int64",
         "type": "integer"
        },
        {
         "name": "Horamavu Banaswadi",
         "rawType": "int64",
         "type": "integer"
        },
        {
         "name": "Hormavu",
         "rawType": "int64",
         "type": "integer"
        },
        {
         "name": "Hosa Road",
         "rawType": "int64",
         "type": "integer"
        },
        {
         "name": "Hosakerehalli",
         "rawType": "int64",
         "type": "integer"
        },
        {
         "name": "Hoskote",
         "rawType": "int64",
         "type": "integer"
        },
        {
         "name": "Hosur Road",
         "rawType": "int64",
         "type": "integer"
        },
        {
         "name": "Hulimavu",
         "rawType": "int64",
         "type": "integer"
        },
        {
         "name": "ISRO Layout",
         "rawType": "int64",
         "type": "integer"
        },
        {
         "name": "ITPL",
         "rawType": "int64",
         "type": "integer"
        },
        {
         "name": "Iblur Village",
         "rawType": "int64",
         "type": "integer"
        },
        {
         "name": "Indira Nagar",
         "rawType": "int64",
         "type": "integer"
        },
        {
         "name": "JP Nagar",
         "rawType": "int64",
         "type": "integer"
        },
        {
         "name": "Jakkur",
         "rawType": "int64",
         "type": "integer"
        },
        {
         "name": "Jalahalli",
         "rawType": "int64",
         "type": "integer"
        },
        {
         "name": "Jalahalli East",
         "rawType": "int64",
         "type": "integer"
        },
        {
         "name": "Jigani",
         "rawType": "int64",
         "type": "integer"
        },
        {
         "name": "Judicial Layout",
         "rawType": "int64",
         "type": "integer"
        },
        {
         "name": "KR Puram",
         "rawType": "int64",
         "type": "integer"
        },
        {
         "name": "Kadubeesanahalli",
         "rawType": "int64",
         "type": "integer"
        },
        {
         "name": "Kadugodi",
         "rawType": "int64",
         "type": "integer"
        },
        {
         "name": "Kaggadasapura",
         "rawType": "int64",
         "type": "integer"
        },
        {
         "name": "Kaggalipura",
         "rawType": "int64",
         "type": "integer"
        },
        {
         "name": "Kaikondrahalli",
         "rawType": "int64",
         "type": "integer"
        },
        {
         "name": "Kalena Agrahara",
         "rawType": "int64",
         "type": "integer"
        },
        {
         "name": "Kalkere",
         "rawType": "int64",
         "type": "integer"
        },
        {
         "name": "Kalyan nagar",
         "rawType": "int64",
         "type": "integer"
        },
        {
         "name": "Kambipura",
         "rawType": "int64",
         "type": "integer"
        },
        {
         "name": "Kammanahalli",
         "rawType": "int64",
         "type": "integer"
        },
        {
         "name": "Kammasandra",
         "rawType": "int64",
         "type": "integer"
        },
        {
         "name": "Kanakapura",
         "rawType": "int64",
         "type": "integer"
        },
        {
         "name": "Kanakpura Road",
         "rawType": "int64",
         "type": "integer"
        },
        {
         "name": "Kannamangala",
         "rawType": "int64",
         "type": "integer"
        },
        {
         "name": "Karuna Nagar",
         "rawType": "int64",
         "type": "integer"
        },
        {
         "name": "Kasavanhalli",
         "rawType": "int64",
         "type": "integer"
        },
        {
         "name": "Kasturi Nagar",
         "rawType": "int64",
         "type": "integer"
        },
        {
         "name": "Kathriguppe",
         "rawType": "int64",
         "type": "integer"
        },
        {
         "name": "Kaval Byrasandra",
         "rawType": "int64",
         "type": "integer"
        },
        {
         "name": "Kenchenahalli",
         "rawType": "int64",
         "type": "integer"
        },
        {
         "name": "Kengeri",
         "rawType": "int64",
         "type": "integer"
        },
        {
         "name": "Kengeri Satellite Town",
         "rawType": "int64",
         "type": "integer"
        },
        {
         "name": "Kereguddadahalli",
         "rawType": "int64",
         "type": "integer"
        },
        {
         "name": "Kodichikkanahalli",
         "rawType": "int64",
         "type": "integer"
        },
        {
         "name": "Kodigehaali",
         "rawType": "int64",
         "type": "integer"
        },
        {
         "name": "Kodigehalli",
         "rawType": "int64",
         "type": "integer"
        },
        {
         "name": "Kodihalli",
         "rawType": "int64",
         "type": "integer"
        },
        {
         "name": "Kogilu",
         "rawType": "int64",
         "type": "integer"
        },
        {
         "name": "Konanakunte",
         "rawType": "int64",
         "type": "integer"
        },
        {
         "name": "Koramangala",
         "rawType": "int64",
         "type": "integer"
        },
        {
         "name": "Kothannur",
         "rawType": "int64",
         "type": "integer"
        },
        {
         "name": "Kothanur",
         "rawType": "int64",
         "type": "integer"
        },
        {
         "name": "Kudlu",
         "rawType": "int64",
         "type": "integer"
        },
        {
         "name": "Kudlu Gate",
         "rawType": "int64",
         "type": "integer"
        },
        {
         "name": "Kumaraswami Layout",
         "rawType": "int64",
         "type": "integer"
        },
        {
         "name": "Kundalahalli",
         "rawType": "int64",
         "type": "integer"
        },
        {
         "name": "LB Shastri Nagar",
         "rawType": "int64",
         "type": "integer"
        },
        {
         "name": "Laggere",
         "rawType": "int64",
         "type": "integer"
        },
        {
         "name": "Lakshminarayana Pura",
         "rawType": "int64",
         "type": "integer"
        },
        {
         "name": "Lingadheeranahalli",
         "rawType": "int64",
         "type": "integer"
        },
        {
         "name": "Magadi Road",
         "rawType": "int64",
         "type": "integer"
        },
        {
         "name": "Mahadevpura",
         "rawType": "int64",
         "type": "integer"
        },
        {
         "name": "Mahalakshmi Layout",
         "rawType": "int64",
         "type": "integer"
        },
        {
         "name": "Mallasandra",
         "rawType": "int64",
         "type": "integer"
        },
        {
         "name": "Malleshpalya",
         "rawType": "int64",
         "type": "integer"
        },
        {
         "name": "Malleshwaram",
         "rawType": "int64",
         "type": "integer"
        },
        {
         "name": "Marathahalli",
         "rawType": "int64",
         "type": "integer"
        },
        {
         "name": "Margondanahalli",
         "rawType": "int64",
         "type": "integer"
        },
        {
         "name": "Marsur",
         "rawType": "int64",
         "type": "integer"
        },
        {
         "name": "Mico Layout",
         "rawType": "int64",
         "type": "integer"
        },
        {
         "name": "Munnekollal",
         "rawType": "int64",
         "type": "integer"
        },
        {
         "name": "Murugeshpalya",
         "rawType": "int64",
         "type": "integer"
        },
        {
         "name": "Mysore Road",
         "rawType": "int64",
         "type": "integer"
        },
        {
         "name": "NGR Layout",
         "rawType": "int64",
         "type": "integer"
        },
        {
         "name": "NRI Layout",
         "rawType": "int64",
         "type": "integer"
        },
        {
         "name": "Nagadevanahalli",
         "rawType": "int64",
         "type": "integer"
        },
        {
         "name": "Naganathapura",
         "rawType": "int64",
         "type": "integer"
        },
        {
         "name": "Nagappa Reddy Layout",
         "rawType": "int64",
         "type": "integer"
        },
        {
         "name": "Nagarbhavi",
         "rawType": "int64",
         "type": "integer"
        },
        {
         "name": "Nagasandra",
         "rawType": "int64",
         "type": "integer"
        },
        {
         "name": "Nagavara",
         "rawType": "int64",
         "type": "integer"
        },
        {
         "name": "Nagavarapalya",
         "rawType": "int64",
         "type": "integer"
        },
        {
         "name": "Narayanapura",
         "rawType": "int64",
         "type": "integer"
        },
        {
         "name": "Neeladri Nagar",
         "rawType": "int64",
         "type": "integer"
        },
        {
         "name": "Nehru Nagar",
         "rawType": "int64",
         "type": "integer"
        },
        {
         "name": "OMBR Layout",
         "rawType": "int64",
         "type": "integer"
        },
        {
         "name": "Old Airport Road",
         "rawType": "int64",
         "type": "integer"
        },
        {
         "name": "Old Madras Road",
         "rawType": "int64",
         "type": "integer"
        },
        {
         "name": "Padmanabhanagar",
         "rawType": "int64",
         "type": "integer"
        },
        {
         "name": "Pai Layout",
         "rawType": "int64",
         "type": "integer"
        },
        {
         "name": "Panathur",
         "rawType": "int64",
         "type": "integer"
        },
        {
         "name": "Parappana Agrahara",
         "rawType": "int64",
         "type": "integer"
        },
        {
         "name": "Pattandur Agrahara",
         "rawType": "int64",
         "type": "integer"
        },
        {
         "name": "Poorna Pragna Layout",
         "rawType": "int64",
         "type": "integer"
        },
        {
         "name": "Prithvi Layout",
         "rawType": "int64",
         "type": "integer"
        },
        {
         "name": "R.T. Nagar",
         "rawType": "int64",
         "type": "integer"
        },
        {
         "name": "Rachenahalli",
         "rawType": "int64",
         "type": "integer"
        },
        {
         "name": "Raja Rajeshwari Nagar",
         "rawType": "int64",
         "type": "integer"
        },
        {
         "name": "Rajaji Nagar",
         "rawType": "int64",
         "type": "integer"
        },
        {
         "name": "Rajiv Nagar",
         "rawType": "int64",
         "type": "integer"
        },
        {
         "name": "Ramagondanahalli",
         "rawType": "int64",
         "type": "integer"
        },
        {
         "name": "Ramamurthy Nagar",
         "rawType": "int64",
         "type": "integer"
        },
        {
         "name": "Rayasandra",
         "rawType": "int64",
         "type": "integer"
        },
        {
         "name": "Sadashiva Nagar",
         "rawType": "int64",
         "type": "integer"
        },
        {
         "name": "Sahakara Nagar",
         "rawType": "int64",
         "type": "integer"
        },
        {
         "name": "Sanjay nagar",
         "rawType": "int64",
         "type": "integer"
        },
        {
         "name": "Sarakki Nagar",
         "rawType": "int64",
         "type": "integer"
        },
        {
         "name": "Sarjapur",
         "rawType": "int64",
         "type": "integer"
        },
        {
         "name": "Sarjapur  Road",
         "rawType": "int64",
         "type": "integer"
        },
        {
         "name": "Sarjapura - Attibele Road",
         "rawType": "int64",
         "type": "integer"
        },
        {
         "name": "Sector 2 HSR Layout",
         "rawType": "int64",
         "type": "integer"
        },
        {
         "name": "Sector 7 HSR Layout",
         "rawType": "int64",
         "type": "integer"
        },
        {
         "name": "Seegehalli",
         "rawType": "int64",
         "type": "integer"
        },
        {
         "name": "Shampura",
         "rawType": "int64",
         "type": "integer"
        },
        {
         "name": "Shivaji Nagar",
         "rawType": "int64",
         "type": "integer"
        },
        {
         "name": "Singasandra",
         "rawType": "int64",
         "type": "integer"
        },
        {
         "name": "Somasundara Palya",
         "rawType": "int64",
         "type": "integer"
        },
        {
         "name": "Sompura",
         "rawType": "int64",
         "type": "integer"
        },
        {
         "name": "Sonnenahalli",
         "rawType": "int64",
         "type": "integer"
        },
        {
         "name": "Subramanyapura",
         "rawType": "int64",
         "type": "integer"
        },
        {
         "name": "Sultan Palaya",
         "rawType": "int64",
         "type": "integer"
        },
        {
         "name": "TC Palaya",
         "rawType": "int64",
         "type": "integer"
        },
        {
         "name": "Talaghattapura",
         "rawType": "int64",
         "type": "integer"
        },
        {
         "name": "Thanisandra",
         "rawType": "int64",
         "type": "integer"
        },
        {
         "name": "Thigalarapalya",
         "rawType": "int64",
         "type": "integer"
        },
        {
         "name": "Thubarahalli",
         "rawType": "int64",
         "type": "integer"
        },
        {
         "name": "Thyagaraja Nagar",
         "rawType": "int64",
         "type": "integer"
        },
        {
         "name": "Tindlu",
         "rawType": "int64",
         "type": "integer"
        },
        {
         "name": "Tumkur Road",
         "rawType": "int64",
         "type": "integer"
        },
        {
         "name": "Ulsoor",
         "rawType": "int64",
         "type": "integer"
        },
        {
         "name": "Uttarahalli",
         "rawType": "int64",
         "type": "integer"
        },
        {
         "name": "Varthur",
         "rawType": "int64",
         "type": "integer"
        },
        {
         "name": "Varthur Road",
         "rawType": "int64",
         "type": "integer"
        },
        {
         "name": "Vasanthapura",
         "rawType": "int64",
         "type": "integer"
        },
        {
         "name": "Vidyaranyapura",
         "rawType": "int64",
         "type": "integer"
        },
        {
         "name": "Vijayanagar",
         "rawType": "int64",
         "type": "integer"
        },
        {
         "name": "Vishveshwarya Layout",
         "rawType": "int64",
         "type": "integer"
        },
        {
         "name": "Vishwapriya Layout",
         "rawType": "int64",
         "type": "integer"
        },
        {
         "name": "Vittasandra",
         "rawType": "int64",
         "type": "integer"
        },
        {
         "name": "Whitefield",
         "rawType": "int64",
         "type": "integer"
        },
        {
         "name": "Yelachenahalli",
         "rawType": "int64",
         "type": "integer"
        },
        {
         "name": "Yelahanka",
         "rawType": "int64",
         "type": "integer"
        },
        {
         "name": "Yelahanka New Town",
         "rawType": "int64",
         "type": "integer"
        },
        {
         "name": "Yelenahalli",
         "rawType": "int64",
         "type": "integer"
        },
        {
         "name": "Yeshwanthpur",
         "rawType": "int64",
         "type": "integer"
        }
       ],
       "conversionMethod": "pd.DataFrame",
       "ref": "84a29f29-039a-44f2-b69e-a9d1496aa7ac",
       "rows": [
        [
         "1",
         "1250.0",
         "2.0",
         "2",
         "1",
         "0",
         "0",
         "0",
         "0",
         "0",
         "0",
         "0",
         "0",
         "0",
         "0",
         "0",
         "0",
         "0",
         "0",
         "0",
         "0",
         "0",
         "0",
         "0",
         "0",
         "0",
         "0",
         "0",
         "0",
         "0",
         "0",
         "0",
         "0",
         "0",
         "0",
         "0",
         "0",
         "0",
         "0",
         "0",
         "0",
         "0",
         "0",
         "0",
         "0",
         "0",
         "0",
         "0",
         "0",
         "0",
         "0",
         "0",
         "0",
         "0",
         "0",
         "0",
         "0",
         "0",
         "0",
         "0",
         "0",
         "0",
         "0",
         "0",
         "0",
         "0",
         "0",
         "0",
         "0",
         "0",
         "0",
         "0",
         "0",
         "0",
         "0",
         "0",
         "0",
         "0",
         "0",
         "0",
         "0",
         "0",
         "0",
         "0",
         "0",
         "0",
         "0",
         "0",
         "0",
         "0",
         "0",
         "0",
         "0",
         "0",
         "0",
         "0",
         "0",
         "0",
         "0",
         "0",
         "0",
         "0",
         "0",
         "0",
         "0",
         "0",
         "0",
         "0",
         "0",
         "0",
         "0",
         "0",
         "0",
         "0",
         "0",
         "0",
         "0",
         "0",
         "0",
         "0",
         "0",
         "0",
         "0",
         "0",
         "0",
         "0",
         "0",
         "0",
         "0",
         "0",
         "0",
         "0",
         "0",
         "0",
         "0",
         "0",
         "0",
         "0",
         "0",
         "0",
         "0",
         "0",
         "0",
         "0",
         "0",
         "0",
         "0",
         "0",
         "0",
         "0",
         "0",
         "0",
         "0",
         "0",
         "0",
         "0",
         "0",
         "0",
         "0",
         "0",
         "0",
         "0",
         "0",
         "0",
         "0",
         "0",
         "0",
         "0",
         "0",
         "0",
         "0",
         "0",
         "0",
         "0",
         "0",
         "0",
         "0",
         "0",
         "0",
         "0",
         "0",
         "0",
         "0",
         "0",
         "0",
         "0",
         "0",
         "0",
         "0",
         "0",
         "0",
         "0",
         "0",
         "0",
         "0",
         "0",
         "0",
         "0",
         "0",
         "0",
         "0",
         "0",
         "0",
         "0",
         "0",
         "0",
         "0",
         "0",
         "0",
         "0",
         "0",
         "0",
         "0",
         "0",
         "0",
         "0",
         "0",
         "0",
         "0",
         "0",
         "0",
         "0",
         "0",
         "0",
         "0",
         "0",
         "0",
         "0",
         "0",
         "0",
         "0",
         "0",
         "0",
         "0",
         "0",
         "0",
         "0",
         "0",
         "0",
         "0",
         "0",
         "0",
         "0",
         "0",
         "0",
         "0",
         "0",
         "0",
         "0",
         "0",
         "0",
         "0",
         "0",
         "0",
         "0",
         "0",
         "0"
        ],
        [
         "2",
         "1200.0",
         "2.0",
         "2",
         "1",
         "0",
         "0",
         "0",
         "0",
         "0",
         "0",
         "0",
         "0",
         "0",
         "0",
         "0",
         "0",
         "0",
         "0",
         "0",
         "0",
         "0",
         "0",
         "0",
         "0",
         "0",
         "0",
         "0",
         "0",
         "0",
         "0",
         "0",
         "0",
         "0",
         "0",
         "0",
         "0",
         "0",
         "0",
         "0",
         "0",
         "0",
         "0",
         "0",
         "0",
         "0",
         "0",
         "0",
         "0",
         "0",
         "0",
         "0",
         "0",
         "0",
         "0",
         "0",
         "0",
         "0",
         "0",
         "0",
         "0",
         "0",
         "0",
         "0",
         "0",
         "0",
         "0",
         "0",
         "0",
         "0",
         "0",
         "0",
         "0",
         "0",
         "0",
         "0",
         "0",
         "0",
         "0",
         "0",
         "0",
         "0",
         "0",
         "0",
         "0",
         "0",
         "0",
         "0",
         "0",
         "0",
         "0",
         "0",
         "0",
         "0",
         "0",
         "0",
         "0",
         "0",
         "0",
         "0",
         "0",
         "0",
         "0",
         "0",
         "0",
         "0",
         "0",
         "0",
         "0",
         "0",
         "0",
         "0",
         "0",
         "0",
         "0",
         "0",
         "0",
         "0",
         "0",
         "0",
         "0",
         "0",
         "0",
         "0",
         "0",
         "0",
         "0",
         "0",
         "0",
         "0",
         "0",
         "0",
         "0",
         "0",
         "0",
         "0",
         "0",
         "0",
         "0",
         "0",
         "0",
         "0",
         "0",
         "0",
         "0",
         "0",
         "0",
         "0",
         "0",
         "0",
         "0",
         "0",
         "0",
         "0",
         "0",
         "0",
         "0",
         "0",
         "0",
         "0",
         "0",
         "0",
         "0",
         "0",
         "0",
         "0",
         "0",
         "0",
         "0",
         "0",
         "0",
         "0",
         "0",
         "0",
         "0",
         "0",
         "0",
         "0",
         "0",
         "0",
         "0",
         "0",
         "0",
         "0",
         "0",
         "0",
         "0",
         "0",
         "0",
         "0",
         "0",
         "0",
         "0",
         "0",
         "0",
         "0",
         "0",
         "0",
         "0",
         "0",
         "0",
         "0",
         "0",
         "0",
         "0",
         "0",
         "0",
         "0",
         "0",
         "0",
         "0",
         "0",
         "0",
         "0",
         "0",
         "0",
         "0",
         "0",
         "0",
         "0",
         "0",
         "0",
         "0",
         "0",
         "0",
         "0",
         "0",
         "0",
         "0",
         "0",
         "0",
         "0",
         "0",
         "0",
         "0",
         "0",
         "0",
         "0",
         "0",
         "0",
         "0",
         "0",
         "0",
         "0",
         "0",
         "0",
         "0",
         "0",
         "0",
         "0",
         "0",
         "0",
         "0",
         "0",
         "0",
         "0",
         "0"
        ],
        [
         "3",
         "1170.0",
         "2.0",
         "2",
         "1",
         "0",
         "0",
         "0",
         "0",
         "0",
         "0",
         "0",
         "0",
         "0",
         "0",
         "0",
         "0",
         "0",
         "0",
         "0",
         "0",
         "0",
         "0",
         "0",
         "0",
         "0",
         "0",
         "0",
         "0",
         "0",
         "0",
         "0",
         "0",
         "0",
         "0",
         "0",
         "0",
         "0",
         "0",
         "0",
         "0",
         "0",
         "0",
         "0",
         "0",
         "0",
         "0",
         "0",
         "0",
         "0",
         "0",
         "0",
         "0",
         "0",
         "0",
         "0",
         "0",
         "0",
         "0",
         "0",
         "0",
         "0",
         "0",
         "0",
         "0",
         "0",
         "0",
         "0",
         "0",
         "0",
         "0",
         "0",
         "0",
         "0",
         "0",
         "0",
         "0",
         "0",
         "0",
         "0",
         "0",
         "0",
         "0",
         "0",
         "0",
         "0",
         "0",
         "0",
         "0",
         "0",
         "0",
         "0",
         "0",
         "0",
         "0",
         "0",
         "0",
         "0",
         "0",
         "0",
         "0",
         "0",
         "0",
         "0",
         "0",
         "0",
         "0",
         "0",
         "0",
         "0",
         "0",
         "0",
         "0",
         "0",
         "0",
         "0",
         "0",
         "0",
         "0",
         "0",
         "0",
         "0",
         "0",
         "0",
         "0",
         "0",
         "0",
         "0",
         "0",
         "0",
         "0",
         "0",
         "0",
         "0",
         "0",
         "0",
         "0",
         "0",
         "0",
         "0",
         "0",
         "0",
         "0",
         "0",
         "0",
         "0",
         "0",
         "0",
         "0",
         "0",
         "0",
         "0",
         "0",
         "0",
         "0",
         "0",
         "0",
         "0",
         "0",
         "0",
         "0",
         "0",
         "0",
         "0",
         "0",
         "0",
         "0",
         "0",
         "0",
         "0",
         "0",
         "0",
         "0",
         "0",
         "0",
         "0",
         "0",
         "0",
         "0",
         "0",
         "0",
         "0",
         "0",
         "0",
         "0",
         "0",
         "0",
         "0",
         "0",
         "0",
         "0",
         "0",
         "0",
         "0",
         "0",
         "0",
         "0",
         "0",
         "0",
         "0",
         "0",
         "0",
         "0",
         "0",
         "0",
         "0",
         "0",
         "0",
         "0",
         "0",
         "0",
         "0",
         "0",
         "0",
         "0",
         "0",
         "0",
         "0",
         "0",
         "0",
         "0",
         "0",
         "0",
         "0",
         "0",
         "0",
         "0",
         "0",
         "0",
         "0",
         "0",
         "0",
         "0",
         "0",
         "0",
         "0",
         "0",
         "0",
         "0",
         "0",
         "0",
         "0",
         "0",
         "0",
         "0",
         "0",
         "0",
         "0",
         "0",
         "0",
         "0",
         "0",
         "0",
         "0",
         "0",
         "0",
         "0"
        ],
        [
         "4",
         "1425.0",
         "2.0",
         "3",
         "1",
         "0",
         "0",
         "0",
         "0",
         "0",
         "0",
         "0",
         "0",
         "0",
         "0",
         "0",
         "0",
         "0",
         "0",
         "0",
         "0",
         "0",
         "0",
         "0",
         "0",
         "0",
         "0",
         "0",
         "0",
         "0",
         "0",
         "0",
         "0",
         "0",
         "0",
         "0",
         "0",
         "0",
         "0",
         "0",
         "0",
         "0",
         "0",
         "0",
         "0",
         "0",
         "0",
         "0",
         "0",
         "0",
         "0",
         "0",
         "0",
         "0",
         "0",
         "0",
         "0",
         "0",
         "0",
         "0",
         "0",
         "0",
         "0",
         "0",
         "0",
         "0",
         "0",
         "0",
         "0",
         "0",
         "0",
         "0",
         "0",
         "0",
         "0",
         "0",
         "0",
         "0",
         "0",
         "0",
         "0",
         "0",
         "0",
         "0",
         "0",
         "0",
         "0",
         "0",
         "0",
         "0",
         "0",
         "0",
         "0",
         "0",
         "0",
         "0",
         "0",
         "0",
         "0",
         "0",
         "0",
         "0",
         "0",
         "0",
         "0",
         "0",
         "0",
         "0",
         "0",
         "0",
         "0",
         "0",
         "0",
         "0",
         "0",
         "0",
         "0",
         "0",
         "0",
         "0",
         "0",
         "0",
         "0",
         "0",
         "0",
         "0",
         "0",
         "0",
         "0",
         "0",
         "0",
         "0",
         "0",
         "0",
         "0",
         "0",
         "0",
         "0",
         "0",
         "0",
         "0",
         "0",
         "0",
         "0",
         "0",
         "0",
         "0",
         "0",
         "0",
         "0",
         "0",
         "0",
         "0",
         "0",
         "0",
         "0",
         "0",
         "0",
         "0",
         "0",
         "0",
         "0",
         "0",
         "0",
         "0",
         "0",
         "0",
         "0",
         "0",
         "0",
         "0",
         "0",
         "0",
         "0",
         "0",
         "0",
         "0",
         "0",
         "0",
         "0",
         "0",
         "0",
         "0",
         "0",
         "0",
         "0",
         "0",
         "0",
         "0",
         "0",
         "0",
         "0",
         "0",
         "0",
         "0",
         "0",
         "0",
         "0",
         "0",
         "0",
         "0",
         "0",
         "0",
         "0",
         "0",
         "0",
         "0",
         "0",
         "0",
         "0",
         "0",
         "0",
         "0",
         "0",
         "0",
         "0",
         "0",
         "0",
         "0",
         "0",
         "0",
         "0",
         "0",
         "0",
         "0",
         "0",
         "0",
         "0",
         "0",
         "0",
         "0",
         "0",
         "0",
         "0",
         "0",
         "0",
         "0",
         "0",
         "0",
         "0",
         "0",
         "0",
         "0",
         "0",
         "0",
         "0",
         "0",
         "0",
         "0",
         "0",
         "0",
         "0",
         "0",
         "0",
         "0",
         "0",
         "0"
        ],
        [
         "5",
         "947.0",
         "2.0",
         "2",
         "1",
         "0",
         "0",
         "0",
         "0",
         "0",
         "0",
         "0",
         "0",
         "0",
         "0",
         "0",
         "0",
         "0",
         "0",
         "0",
         "0",
         "0",
         "0",
         "0",
         "0",
         "0",
         "0",
         "0",
         "0",
         "0",
         "0",
         "0",
         "0",
         "0",
         "0",
         "0",
         "0",
         "0",
         "0",
         "0",
         "0",
         "0",
         "0",
         "0",
         "0",
         "0",
         "0",
         "0",
         "0",
         "0",
         "0",
         "0",
         "0",
         "0",
         "0",
         "0",
         "0",
         "0",
         "0",
         "0",
         "0",
         "0",
         "0",
         "0",
         "0",
         "0",
         "0",
         "0",
         "0",
         "0",
         "0",
         "0",
         "0",
         "0",
         "0",
         "0",
         "0",
         "0",
         "0",
         "0",
         "0",
         "0",
         "0",
         "0",
         "0",
         "0",
         "0",
         "0",
         "0",
         "0",
         "0",
         "0",
         "0",
         "0",
         "0",
         "0",
         "0",
         "0",
         "0",
         "0",
         "0",
         "0",
         "0",
         "0",
         "0",
         "0",
         "0",
         "0",
         "0",
         "0",
         "0",
         "0",
         "0",
         "0",
         "0",
         "0",
         "0",
         "0",
         "0",
         "0",
         "0",
         "0",
         "0",
         "0",
         "0",
         "0",
         "0",
         "0",
         "0",
         "0",
         "0",
         "0",
         "0",
         "0",
         "0",
         "0",
         "0",
         "0",
         "0",
         "0",
         "0",
         "0",
         "0",
         "0",
         "0",
         "0",
         "0",
         "0",
         "0",
         "0",
         "0",
         "0",
         "0",
         "0",
         "0",
         "0",
         "0",
         "0",
         "0",
         "0",
         "0",
         "0",
         "0",
         "0",
         "0",
         "0",
         "0",
         "0",
         "0",
         "0",
         "0",
         "0",
         "0",
         "0",
         "0",
         "0",
         "0",
         "0",
         "0",
         "0",
         "0",
         "0",
         "0",
         "0",
         "0",
         "0",
         "0",
         "0",
         "0",
         "0",
         "0",
         "0",
         "0",
         "0",
         "0",
         "0",
         "0",
         "0",
         "0",
         "0",
         "0",
         "0",
         "0",
         "0",
         "0",
         "0",
         "0",
         "0",
         "0",
         "0",
         "0",
         "0",
         "0",
         "0",
         "0",
         "0",
         "0",
         "0",
         "0",
         "0",
         "0",
         "0",
         "0",
         "0",
         "0",
         "0",
         "0",
         "0",
         "0",
         "0",
         "0",
         "0",
         "0",
         "0",
         "0",
         "0",
         "0",
         "0",
         "0",
         "0",
         "0",
         "0",
         "0",
         "0",
         "0",
         "0",
         "0",
         "0",
         "0",
         "0",
         "0",
         "0",
         "0",
         "0",
         "0",
         "0",
         "0"
        ]
       ],
       "shape": {
        "columns": 256,
        "rows": 5
       }
      },
      "text/html": [
       "<div>\n",
       "<style scoped>\n",
       "    .dataframe tbody tr th:only-of-type {\n",
       "        vertical-align: middle;\n",
       "    }\n",
       "\n",
       "    .dataframe tbody tr th {\n",
       "        vertical-align: top;\n",
       "    }\n",
       "\n",
       "    .dataframe thead th {\n",
       "        text-align: right;\n",
       "    }\n",
       "</style>\n",
       "<table border=\"1\" class=\"dataframe\">\n",
       "  <thead>\n",
       "    <tr style=\"text-align: right;\">\n",
       "      <th></th>\n",
       "      <th>total_sqft</th>\n",
       "      <th>bath</th>\n",
       "      <th>bhk</th>\n",
       "      <th>Devarachikkanahalli</th>\n",
       "      <th>1st Block Jayanagar</th>\n",
       "      <th>1st Block Koramangala</th>\n",
       "      <th>1st Phase JP Nagar</th>\n",
       "      <th>2nd Phase Judicial Layout</th>\n",
       "      <th>2nd Stage Nagarbhavi</th>\n",
       "      <th>5th Block Hbr Layout</th>\n",
       "      <th>...</th>\n",
       "      <th>Vijayanagar</th>\n",
       "      <th>Vishveshwarya Layout</th>\n",
       "      <th>Vishwapriya Layout</th>\n",
       "      <th>Vittasandra</th>\n",
       "      <th>Whitefield</th>\n",
       "      <th>Yelachenahalli</th>\n",
       "      <th>Yelahanka</th>\n",
       "      <th>Yelahanka New Town</th>\n",
       "      <th>Yelenahalli</th>\n",
       "      <th>Yeshwanthpur</th>\n",
       "    </tr>\n",
       "  </thead>\n",
       "  <tbody>\n",
       "    <tr>\n",
       "      <th>1</th>\n",
       "      <td>1250.0</td>\n",
       "      <td>2.0</td>\n",
       "      <td>2</td>\n",
       "      <td>1</td>\n",
       "      <td>0</td>\n",
       "      <td>0</td>\n",
       "      <td>0</td>\n",
       "      <td>0</td>\n",
       "      <td>0</td>\n",
       "      <td>0</td>\n",
       "      <td>...</td>\n",
       "      <td>0</td>\n",
       "      <td>0</td>\n",
       "      <td>0</td>\n",
       "      <td>0</td>\n",
       "      <td>0</td>\n",
       "      <td>0</td>\n",
       "      <td>0</td>\n",
       "      <td>0</td>\n",
       "      <td>0</td>\n",
       "      <td>0</td>\n",
       "    </tr>\n",
       "    <tr>\n",
       "      <th>2</th>\n",
       "      <td>1200.0</td>\n",
       "      <td>2.0</td>\n",
       "      <td>2</td>\n",
       "      <td>1</td>\n",
       "      <td>0</td>\n",
       "      <td>0</td>\n",
       "      <td>0</td>\n",
       "      <td>0</td>\n",
       "      <td>0</td>\n",
       "      <td>0</td>\n",
       "      <td>...</td>\n",
       "      <td>0</td>\n",
       "      <td>0</td>\n",
       "      <td>0</td>\n",
       "      <td>0</td>\n",
       "      <td>0</td>\n",
       "      <td>0</td>\n",
       "      <td>0</td>\n",
       "      <td>0</td>\n",
       "      <td>0</td>\n",
       "      <td>0</td>\n",
       "    </tr>\n",
       "    <tr>\n",
       "      <th>3</th>\n",
       "      <td>1170.0</td>\n",
       "      <td>2.0</td>\n",
       "      <td>2</td>\n",
       "      <td>1</td>\n",
       "      <td>0</td>\n",
       "      <td>0</td>\n",
       "      <td>0</td>\n",
       "      <td>0</td>\n",
       "      <td>0</td>\n",
       "      <td>0</td>\n",
       "      <td>...</td>\n",
       "      <td>0</td>\n",
       "      <td>0</td>\n",
       "      <td>0</td>\n",
       "      <td>0</td>\n",
       "      <td>0</td>\n",
       "      <td>0</td>\n",
       "      <td>0</td>\n",
       "      <td>0</td>\n",
       "      <td>0</td>\n",
       "      <td>0</td>\n",
       "    </tr>\n",
       "    <tr>\n",
       "      <th>4</th>\n",
       "      <td>1425.0</td>\n",
       "      <td>2.0</td>\n",
       "      <td>3</td>\n",
       "      <td>1</td>\n",
       "      <td>0</td>\n",
       "      <td>0</td>\n",
       "      <td>0</td>\n",
       "      <td>0</td>\n",
       "      <td>0</td>\n",
       "      <td>0</td>\n",
       "      <td>...</td>\n",
       "      <td>0</td>\n",
       "      <td>0</td>\n",
       "      <td>0</td>\n",
       "      <td>0</td>\n",
       "      <td>0</td>\n",
       "      <td>0</td>\n",
       "      <td>0</td>\n",
       "      <td>0</td>\n",
       "      <td>0</td>\n",
       "      <td>0</td>\n",
       "    </tr>\n",
       "    <tr>\n",
       "      <th>5</th>\n",
       "      <td>947.0</td>\n",
       "      <td>2.0</td>\n",
       "      <td>2</td>\n",
       "      <td>1</td>\n",
       "      <td>0</td>\n",
       "      <td>0</td>\n",
       "      <td>0</td>\n",
       "      <td>0</td>\n",
       "      <td>0</td>\n",
       "      <td>0</td>\n",
       "      <td>...</td>\n",
       "      <td>0</td>\n",
       "      <td>0</td>\n",
       "      <td>0</td>\n",
       "      <td>0</td>\n",
       "      <td>0</td>\n",
       "      <td>0</td>\n",
       "      <td>0</td>\n",
       "      <td>0</td>\n",
       "      <td>0</td>\n",
       "      <td>0</td>\n",
       "    </tr>\n",
       "  </tbody>\n",
       "</table>\n",
       "<p>5 rows × 256 columns</p>\n",
       "</div>"
      ],
      "text/plain": [
       "   total_sqft  bath  bhk   Devarachikkanahalli  1st Block Jayanagar  \\\n",
       "1      1250.0   2.0    2                     1                    0   \n",
       "2      1200.0   2.0    2                     1                    0   \n",
       "3      1170.0   2.0    2                     1                    0   \n",
       "4      1425.0   2.0    3                     1                    0   \n",
       "5       947.0   2.0    2                     1                    0   \n",
       "\n",
       "   1st Block Koramangala  1st Phase JP Nagar  2nd Phase Judicial Layout  \\\n",
       "1                      0                   0                          0   \n",
       "2                      0                   0                          0   \n",
       "3                      0                   0                          0   \n",
       "4                      0                   0                          0   \n",
       "5                      0                   0                          0   \n",
       "\n",
       "   2nd Stage Nagarbhavi  5th Block Hbr Layout  ...  Vijayanagar  \\\n",
       "1                     0                     0  ...            0   \n",
       "2                     0                     0  ...            0   \n",
       "3                     0                     0  ...            0   \n",
       "4                     0                     0  ...            0   \n",
       "5                     0                     0  ...            0   \n",
       "\n",
       "   Vishveshwarya Layout  Vishwapriya Layout  Vittasandra  Whitefield  \\\n",
       "1                     0                   0            0           0   \n",
       "2                     0                   0            0           0   \n",
       "3                     0                   0            0           0   \n",
       "4                     0                   0            0           0   \n",
       "5                     0                   0            0           0   \n",
       "\n",
       "   Yelachenahalli  Yelahanka  Yelahanka New Town  Yelenahalli  Yeshwanthpur  \n",
       "1               0          0                   0            0             0  \n",
       "2               0          0                   0            0             0  \n",
       "3               0          0                   0            0             0  \n",
       "4               0          0                   0            0             0  \n",
       "5               0          0                   0            0             0  \n",
       "\n",
       "[5 rows x 256 columns]"
      ]
     },
     "execution_count": 32,
     "metadata": {},
     "output_type": "execute_result"
    }
   ],
   "source": [
    "#Getting the dependent and independent variables\n",
    "X = df5.drop(['price'], axis='columns')\n",
    "X.head()"
   ]
  },
  {
   "cell_type": "code",
   "execution_count": 33,
   "metadata": {},
   "outputs": [
    {
     "data": {
      "text/plain": [
       "1    40.0\n",
       "2    83.0\n",
       "3    40.0\n",
       "4    65.0\n",
       "5    43.0\n",
       "Name: price, dtype: float64"
      ]
     },
     "execution_count": 33,
     "metadata": {},
     "output_type": "execute_result"
    }
   ],
   "source": [
    "y = df5['price']\n",
    "y.head()"
   ]
  },
  {
   "cell_type": "code",
   "execution_count": 34,
   "metadata": {},
   "outputs": [
    {
     "data": {
      "text/plain": [
       "((5772, 256), (1443, 256), (5772,), (1443,))"
      ]
     },
     "execution_count": 34,
     "metadata": {},
     "output_type": "execute_result"
    }
   ],
   "source": [
    "#Splitting the data into training and testing data\n",
    "from sklearn.model_selection import train_test_split\n",
    "X_train, X_test, y_train, y_test = train_test_split(X, y, test_size=0.2, random_state=42)\n",
    "X_train.shape, X_test.shape, y_train.shape, y_test.shape\n",
    "       "
   ]
  },
  {
   "cell_type": "markdown",
   "metadata": {},
   "source": [
    "I will begin with Logistic Regression just to get a grasp of how the model can perform then I will introduce other models as comparisons so that I can determine the best model to use."
   ]
  },
  {
   "cell_type": "code",
   "execution_count": 35,
   "metadata": {},
   "outputs": [
    {
     "data": {
      "text/html": [
       "<style>#sk-container-id-1 {\n",
       "  /* Definition of color scheme common for light and dark mode */\n",
       "  --sklearn-color-text: #000;\n",
       "  --sklearn-color-text-muted: #666;\n",
       "  --sklearn-color-line: gray;\n",
       "  /* Definition of color scheme for unfitted estimators */\n",
       "  --sklearn-color-unfitted-level-0: #fff5e6;\n",
       "  --sklearn-color-unfitted-level-1: #f6e4d2;\n",
       "  --sklearn-color-unfitted-level-2: #ffe0b3;\n",
       "  --sklearn-color-unfitted-level-3: chocolate;\n",
       "  /* Definition of color scheme for fitted estimators */\n",
       "  --sklearn-color-fitted-level-0: #f0f8ff;\n",
       "  --sklearn-color-fitted-level-1: #d4ebff;\n",
       "  --sklearn-color-fitted-level-2: #b3dbfd;\n",
       "  --sklearn-color-fitted-level-3: cornflowerblue;\n",
       "\n",
       "  /* Specific color for light theme */\n",
       "  --sklearn-color-text-on-default-background: var(--sg-text-color, var(--theme-code-foreground, var(--jp-content-font-color1, black)));\n",
       "  --sklearn-color-background: var(--sg-background-color, var(--theme-background, var(--jp-layout-color0, white)));\n",
       "  --sklearn-color-border-box: var(--sg-text-color, var(--theme-code-foreground, var(--jp-content-font-color1, black)));\n",
       "  --sklearn-color-icon: #696969;\n",
       "\n",
       "  @media (prefers-color-scheme: dark) {\n",
       "    /* Redefinition of color scheme for dark theme */\n",
       "    --sklearn-color-text-on-default-background: var(--sg-text-color, var(--theme-code-foreground, var(--jp-content-font-color1, white)));\n",
       "    --sklearn-color-background: var(--sg-background-color, var(--theme-background, var(--jp-layout-color0, #111)));\n",
       "    --sklearn-color-border-box: var(--sg-text-color, var(--theme-code-foreground, var(--jp-content-font-color1, white)));\n",
       "    --sklearn-color-icon: #878787;\n",
       "  }\n",
       "}\n",
       "\n",
       "#sk-container-id-1 {\n",
       "  color: var(--sklearn-color-text);\n",
       "}\n",
       "\n",
       "#sk-container-id-1 pre {\n",
       "  padding: 0;\n",
       "}\n",
       "\n",
       "#sk-container-id-1 input.sk-hidden--visually {\n",
       "  border: 0;\n",
       "  clip: rect(1px 1px 1px 1px);\n",
       "  clip: rect(1px, 1px, 1px, 1px);\n",
       "  height: 1px;\n",
       "  margin: -1px;\n",
       "  overflow: hidden;\n",
       "  padding: 0;\n",
       "  position: absolute;\n",
       "  width: 1px;\n",
       "}\n",
       "\n",
       "#sk-container-id-1 div.sk-dashed-wrapped {\n",
       "  border: 1px dashed var(--sklearn-color-line);\n",
       "  margin: 0 0.4em 0.5em 0.4em;\n",
       "  box-sizing: border-box;\n",
       "  padding-bottom: 0.4em;\n",
       "  background-color: var(--sklearn-color-background);\n",
       "}\n",
       "\n",
       "#sk-container-id-1 div.sk-container {\n",
       "  /* jupyter's `normalize.less` sets `[hidden] { display: none; }`\n",
       "     but bootstrap.min.css set `[hidden] { display: none !important; }`\n",
       "     so we also need the `!important` here to be able to override the\n",
       "     default hidden behavior on the sphinx rendered scikit-learn.org.\n",
       "     See: https://github.com/scikit-learn/scikit-learn/issues/21755 */\n",
       "  display: inline-block !important;\n",
       "  position: relative;\n",
       "}\n",
       "\n",
       "#sk-container-id-1 div.sk-text-repr-fallback {\n",
       "  display: none;\n",
       "}\n",
       "\n",
       "div.sk-parallel-item,\n",
       "div.sk-serial,\n",
       "div.sk-item {\n",
       "  /* draw centered vertical line to link estimators */\n",
       "  background-image: linear-gradient(var(--sklearn-color-text-on-default-background), var(--sklearn-color-text-on-default-background));\n",
       "  background-size: 2px 100%;\n",
       "  background-repeat: no-repeat;\n",
       "  background-position: center center;\n",
       "}\n",
       "\n",
       "/* Parallel-specific style estimator block */\n",
       "\n",
       "#sk-container-id-1 div.sk-parallel-item::after {\n",
       "  content: \"\";\n",
       "  width: 100%;\n",
       "  border-bottom: 2px solid var(--sklearn-color-text-on-default-background);\n",
       "  flex-grow: 1;\n",
       "}\n",
       "\n",
       "#sk-container-id-1 div.sk-parallel {\n",
       "  display: flex;\n",
       "  align-items: stretch;\n",
       "  justify-content: center;\n",
       "  background-color: var(--sklearn-color-background);\n",
       "  position: relative;\n",
       "}\n",
       "\n",
       "#sk-container-id-1 div.sk-parallel-item {\n",
       "  display: flex;\n",
       "  flex-direction: column;\n",
       "}\n",
       "\n",
       "#sk-container-id-1 div.sk-parallel-item:first-child::after {\n",
       "  align-self: flex-end;\n",
       "  width: 50%;\n",
       "}\n",
       "\n",
       "#sk-container-id-1 div.sk-parallel-item:last-child::after {\n",
       "  align-self: flex-start;\n",
       "  width: 50%;\n",
       "}\n",
       "\n",
       "#sk-container-id-1 div.sk-parallel-item:only-child::after {\n",
       "  width: 0;\n",
       "}\n",
       "\n",
       "/* Serial-specific style estimator block */\n",
       "\n",
       "#sk-container-id-1 div.sk-serial {\n",
       "  display: flex;\n",
       "  flex-direction: column;\n",
       "  align-items: center;\n",
       "  background-color: var(--sklearn-color-background);\n",
       "  padding-right: 1em;\n",
       "  padding-left: 1em;\n",
       "}\n",
       "\n",
       "\n",
       "/* Toggleable style: style used for estimator/Pipeline/ColumnTransformer box that is\n",
       "clickable and can be expanded/collapsed.\n",
       "- Pipeline and ColumnTransformer use this feature and define the default style\n",
       "- Estimators will overwrite some part of the style using the `sk-estimator` class\n",
       "*/\n",
       "\n",
       "/* Pipeline and ColumnTransformer style (default) */\n",
       "\n",
       "#sk-container-id-1 div.sk-toggleable {\n",
       "  /* Default theme specific background. It is overwritten whether we have a\n",
       "  specific estimator or a Pipeline/ColumnTransformer */\n",
       "  background-color: var(--sklearn-color-background);\n",
       "}\n",
       "\n",
       "/* Toggleable label */\n",
       "#sk-container-id-1 label.sk-toggleable__label {\n",
       "  cursor: pointer;\n",
       "  display: flex;\n",
       "  width: 100%;\n",
       "  margin-bottom: 0;\n",
       "  padding: 0.5em;\n",
       "  box-sizing: border-box;\n",
       "  text-align: center;\n",
       "  align-items: start;\n",
       "  justify-content: space-between;\n",
       "  gap: 0.5em;\n",
       "}\n",
       "\n",
       "#sk-container-id-1 label.sk-toggleable__label .caption {\n",
       "  font-size: 0.6rem;\n",
       "  font-weight: lighter;\n",
       "  color: var(--sklearn-color-text-muted);\n",
       "}\n",
       "\n",
       "#sk-container-id-1 label.sk-toggleable__label-arrow:before {\n",
       "  /* Arrow on the left of the label */\n",
       "  content: \"▸\";\n",
       "  float: left;\n",
       "  margin-right: 0.25em;\n",
       "  color: var(--sklearn-color-icon);\n",
       "}\n",
       "\n",
       "#sk-container-id-1 label.sk-toggleable__label-arrow:hover:before {\n",
       "  color: var(--sklearn-color-text);\n",
       "}\n",
       "\n",
       "/* Toggleable content - dropdown */\n",
       "\n",
       "#sk-container-id-1 div.sk-toggleable__content {\n",
       "  max-height: 0;\n",
       "  max-width: 0;\n",
       "  overflow: hidden;\n",
       "  text-align: left;\n",
       "  /* unfitted */\n",
       "  background-color: var(--sklearn-color-unfitted-level-0);\n",
       "}\n",
       "\n",
       "#sk-container-id-1 div.sk-toggleable__content.fitted {\n",
       "  /* fitted */\n",
       "  background-color: var(--sklearn-color-fitted-level-0);\n",
       "}\n",
       "\n",
       "#sk-container-id-1 div.sk-toggleable__content pre {\n",
       "  margin: 0.2em;\n",
       "  border-radius: 0.25em;\n",
       "  color: var(--sklearn-color-text);\n",
       "  /* unfitted */\n",
       "  background-color: var(--sklearn-color-unfitted-level-0);\n",
       "}\n",
       "\n",
       "#sk-container-id-1 div.sk-toggleable__content.fitted pre {\n",
       "  /* unfitted */\n",
       "  background-color: var(--sklearn-color-fitted-level-0);\n",
       "}\n",
       "\n",
       "#sk-container-id-1 input.sk-toggleable__control:checked~div.sk-toggleable__content {\n",
       "  /* Expand drop-down */\n",
       "  max-height: 200px;\n",
       "  max-width: 100%;\n",
       "  overflow: auto;\n",
       "}\n",
       "\n",
       "#sk-container-id-1 input.sk-toggleable__control:checked~label.sk-toggleable__label-arrow:before {\n",
       "  content: \"▾\";\n",
       "}\n",
       "\n",
       "/* Pipeline/ColumnTransformer-specific style */\n",
       "\n",
       "#sk-container-id-1 div.sk-label input.sk-toggleable__control:checked~label.sk-toggleable__label {\n",
       "  color: var(--sklearn-color-text);\n",
       "  background-color: var(--sklearn-color-unfitted-level-2);\n",
       "}\n",
       "\n",
       "#sk-container-id-1 div.sk-label.fitted input.sk-toggleable__control:checked~label.sk-toggleable__label {\n",
       "  background-color: var(--sklearn-color-fitted-level-2);\n",
       "}\n",
       "\n",
       "/* Estimator-specific style */\n",
       "\n",
       "/* Colorize estimator box */\n",
       "#sk-container-id-1 div.sk-estimator input.sk-toggleable__control:checked~label.sk-toggleable__label {\n",
       "  /* unfitted */\n",
       "  background-color: var(--sklearn-color-unfitted-level-2);\n",
       "}\n",
       "\n",
       "#sk-container-id-1 div.sk-estimator.fitted input.sk-toggleable__control:checked~label.sk-toggleable__label {\n",
       "  /* fitted */\n",
       "  background-color: var(--sklearn-color-fitted-level-2);\n",
       "}\n",
       "\n",
       "#sk-container-id-1 div.sk-label label.sk-toggleable__label,\n",
       "#sk-container-id-1 div.sk-label label {\n",
       "  /* The background is the default theme color */\n",
       "  color: var(--sklearn-color-text-on-default-background);\n",
       "}\n",
       "\n",
       "/* On hover, darken the color of the background */\n",
       "#sk-container-id-1 div.sk-label:hover label.sk-toggleable__label {\n",
       "  color: var(--sklearn-color-text);\n",
       "  background-color: var(--sklearn-color-unfitted-level-2);\n",
       "}\n",
       "\n",
       "/* Label box, darken color on hover, fitted */\n",
       "#sk-container-id-1 div.sk-label.fitted:hover label.sk-toggleable__label.fitted {\n",
       "  color: var(--sklearn-color-text);\n",
       "  background-color: var(--sklearn-color-fitted-level-2);\n",
       "}\n",
       "\n",
       "/* Estimator label */\n",
       "\n",
       "#sk-container-id-1 div.sk-label label {\n",
       "  font-family: monospace;\n",
       "  font-weight: bold;\n",
       "  display: inline-block;\n",
       "  line-height: 1.2em;\n",
       "}\n",
       "\n",
       "#sk-container-id-1 div.sk-label-container {\n",
       "  text-align: center;\n",
       "}\n",
       "\n",
       "/* Estimator-specific */\n",
       "#sk-container-id-1 div.sk-estimator {\n",
       "  font-family: monospace;\n",
       "  border: 1px dotted var(--sklearn-color-border-box);\n",
       "  border-radius: 0.25em;\n",
       "  box-sizing: border-box;\n",
       "  margin-bottom: 0.5em;\n",
       "  /* unfitted */\n",
       "  background-color: var(--sklearn-color-unfitted-level-0);\n",
       "}\n",
       "\n",
       "#sk-container-id-1 div.sk-estimator.fitted {\n",
       "  /* fitted */\n",
       "  background-color: var(--sklearn-color-fitted-level-0);\n",
       "}\n",
       "\n",
       "/* on hover */\n",
       "#sk-container-id-1 div.sk-estimator:hover {\n",
       "  /* unfitted */\n",
       "  background-color: var(--sklearn-color-unfitted-level-2);\n",
       "}\n",
       "\n",
       "#sk-container-id-1 div.sk-estimator.fitted:hover {\n",
       "  /* fitted */\n",
       "  background-color: var(--sklearn-color-fitted-level-2);\n",
       "}\n",
       "\n",
       "/* Specification for estimator info (e.g. \"i\" and \"?\") */\n",
       "\n",
       "/* Common style for \"i\" and \"?\" */\n",
       "\n",
       ".sk-estimator-doc-link,\n",
       "a:link.sk-estimator-doc-link,\n",
       "a:visited.sk-estimator-doc-link {\n",
       "  float: right;\n",
       "  font-size: smaller;\n",
       "  line-height: 1em;\n",
       "  font-family: monospace;\n",
       "  background-color: var(--sklearn-color-background);\n",
       "  border-radius: 1em;\n",
       "  height: 1em;\n",
       "  width: 1em;\n",
       "  text-decoration: none !important;\n",
       "  margin-left: 0.5em;\n",
       "  text-align: center;\n",
       "  /* unfitted */\n",
       "  border: var(--sklearn-color-unfitted-level-1) 1pt solid;\n",
       "  color: var(--sklearn-color-unfitted-level-1);\n",
       "}\n",
       "\n",
       ".sk-estimator-doc-link.fitted,\n",
       "a:link.sk-estimator-doc-link.fitted,\n",
       "a:visited.sk-estimator-doc-link.fitted {\n",
       "  /* fitted */\n",
       "  border: var(--sklearn-color-fitted-level-1) 1pt solid;\n",
       "  color: var(--sklearn-color-fitted-level-1);\n",
       "}\n",
       "\n",
       "/* On hover */\n",
       "div.sk-estimator:hover .sk-estimator-doc-link:hover,\n",
       ".sk-estimator-doc-link:hover,\n",
       "div.sk-label-container:hover .sk-estimator-doc-link:hover,\n",
       ".sk-estimator-doc-link:hover {\n",
       "  /* unfitted */\n",
       "  background-color: var(--sklearn-color-unfitted-level-3);\n",
       "  color: var(--sklearn-color-background);\n",
       "  text-decoration: none;\n",
       "}\n",
       "\n",
       "div.sk-estimator.fitted:hover .sk-estimator-doc-link.fitted:hover,\n",
       ".sk-estimator-doc-link.fitted:hover,\n",
       "div.sk-label-container:hover .sk-estimator-doc-link.fitted:hover,\n",
       ".sk-estimator-doc-link.fitted:hover {\n",
       "  /* fitted */\n",
       "  background-color: var(--sklearn-color-fitted-level-3);\n",
       "  color: var(--sklearn-color-background);\n",
       "  text-decoration: none;\n",
       "}\n",
       "\n",
       "/* Span, style for the box shown on hovering the info icon */\n",
       ".sk-estimator-doc-link span {\n",
       "  display: none;\n",
       "  z-index: 9999;\n",
       "  position: relative;\n",
       "  font-weight: normal;\n",
       "  right: .2ex;\n",
       "  padding: .5ex;\n",
       "  margin: .5ex;\n",
       "  width: min-content;\n",
       "  min-width: 20ex;\n",
       "  max-width: 50ex;\n",
       "  color: var(--sklearn-color-text);\n",
       "  box-shadow: 2pt 2pt 4pt #999;\n",
       "  /* unfitted */\n",
       "  background: var(--sklearn-color-unfitted-level-0);\n",
       "  border: .5pt solid var(--sklearn-color-unfitted-level-3);\n",
       "}\n",
       "\n",
       ".sk-estimator-doc-link.fitted span {\n",
       "  /* fitted */\n",
       "  background: var(--sklearn-color-fitted-level-0);\n",
       "  border: var(--sklearn-color-fitted-level-3);\n",
       "}\n",
       "\n",
       ".sk-estimator-doc-link:hover span {\n",
       "  display: block;\n",
       "}\n",
       "\n",
       "/* \"?\"-specific style due to the `<a>` HTML tag */\n",
       "\n",
       "#sk-container-id-1 a.estimator_doc_link {\n",
       "  float: right;\n",
       "  font-size: 1rem;\n",
       "  line-height: 1em;\n",
       "  font-family: monospace;\n",
       "  background-color: var(--sklearn-color-background);\n",
       "  border-radius: 1rem;\n",
       "  height: 1rem;\n",
       "  width: 1rem;\n",
       "  text-decoration: none;\n",
       "  /* unfitted */\n",
       "  color: var(--sklearn-color-unfitted-level-1);\n",
       "  border: var(--sklearn-color-unfitted-level-1) 1pt solid;\n",
       "}\n",
       "\n",
       "#sk-container-id-1 a.estimator_doc_link.fitted {\n",
       "  /* fitted */\n",
       "  border: var(--sklearn-color-fitted-level-1) 1pt solid;\n",
       "  color: var(--sklearn-color-fitted-level-1);\n",
       "}\n",
       "\n",
       "/* On hover */\n",
       "#sk-container-id-1 a.estimator_doc_link:hover {\n",
       "  /* unfitted */\n",
       "  background-color: var(--sklearn-color-unfitted-level-3);\n",
       "  color: var(--sklearn-color-background);\n",
       "  text-decoration: none;\n",
       "}\n",
       "\n",
       "#sk-container-id-1 a.estimator_doc_link.fitted:hover {\n",
       "  /* fitted */\n",
       "  background-color: var(--sklearn-color-fitted-level-3);\n",
       "}\n",
       "</style><div id=\"sk-container-id-1\" class=\"sk-top-container\"><div class=\"sk-text-repr-fallback\"><pre>LinearRegression()</pre><b>In a Jupyter environment, please rerun this cell to show the HTML representation or trust the notebook. <br />On GitHub, the HTML representation is unable to render, please try loading this page with nbviewer.org.</b></div><div class=\"sk-container\" hidden><div class=\"sk-item\"><div class=\"sk-estimator fitted sk-toggleable\"><input class=\"sk-toggleable__control sk-hidden--visually\" id=\"sk-estimator-id-1\" type=\"checkbox\" checked><label for=\"sk-estimator-id-1\" class=\"sk-toggleable__label fitted sk-toggleable__label-arrow\"><div><div>LinearRegression</div></div><div><a class=\"sk-estimator-doc-link fitted\" rel=\"noreferrer\" target=\"_blank\" href=\"https://scikit-learn.org/1.6/modules/generated/sklearn.linear_model.LinearRegression.html\">?<span>Documentation for LinearRegression</span></a><span class=\"sk-estimator-doc-link fitted\">i<span>Fitted</span></span></div></label><div class=\"sk-toggleable__content fitted\"><pre>LinearRegression()</pre></div> </div></div></div></div>"
      ],
      "text/plain": [
       "LinearRegression()"
      ]
     },
     "execution_count": 35,
     "metadata": {},
     "output_type": "execute_result"
    }
   ],
   "source": [
    "#Training the model using Linear regression\n",
    "from sklearn.linear_model import LinearRegression\n",
    "model = LinearRegression()\n",
    "model.fit(X_train, y_train)"
   ]
  },
  {
   "cell_type": "code",
   "execution_count": 36,
   "metadata": {},
   "outputs": [
    {
     "data": {
      "text/plain": [
       "0.848078212698447"
      ]
     },
     "execution_count": 36,
     "metadata": {},
     "output_type": "execute_result"
    }
   ],
   "source": [
    "#Getting the score of the model\n",
    "model.score(X_test, y_test)"
   ]
  },
  {
   "cell_type": "markdown",
   "metadata": {},
   "source": [
    "Getting the value above shows that linear regression is a decent model for the analysis. But I will try other models to determine the best model to use for the pipeline. We need the best model for the pipeline."
   ]
  },
  {
   "cell_type": "code",
   "execution_count": 37,
   "metadata": {},
   "outputs": [
    {
     "name": "stdout",
     "output_type": "stream",
     "text": [
      "                   Model  Best Score                             Best Params\n",
      "0      Linear Regression    0.848078                      Default parameters\n",
      "1       Ridge Regression    0.851557                          {'alpha': 0.1}\n",
      "2       Lasso Regression    0.848073                         {'alpha': 0.01}\n",
      "3  ElasticNet Regression    0.775501                         {'alpha': 0.01}\n",
      "4          Random Forest    0.807475  {'max_depth': 20, 'n_estimators': 100}\n"
     ]
    }
   ],
   "source": [
    "from sklearn.model_selection import GridSearchCV\n",
    "\n",
    "def get_best_model(X, y, X_train, X_test, y_train, y_test):\n",
    "    models = {\n",
    "        \"Linear Regression\": (LinearRegression(), {}),\n",
    "        \"Ridge Regression\": (Ridge(), {'alpha': [0.01, 0.1, 1, 10, 100]}),\n",
    "        \"Lasso Regression\": (Lasso(), {'alpha': [0.01, 0.1, 1, 10, 100]}),\n",
    "        \"ElasticNet Regression\": (ElasticNet(), {'alpha': [0.01, 0.1, 1, 10, 100]}),\n",
    "        \"Random Forest\": (RandomForestRegressor(), {'n_estimators': [50, 100, 200], 'max_depth': [None, 10, 20]}),\n",
    "    }\n",
    "\n",
    "    # List to store model results\n",
    "    results = []  \n",
    "    best_model = None\n",
    "    best_score = float('-inf')\n",
    "\n",
    "    for model_name, (model, params) in models.items():\n",
    "        try:\n",
    "            if params:  \n",
    "                grid_search = GridSearchCV(model, params, cv=5, scoring='r2', n_jobs=-1)\n",
    "                grid_search.fit(X_train, y_train)\n",
    "                model_score = grid_search.best_score_\n",
    "                model_params = grid_search.best_params_\n",
    "                model_instance = grid_search.best_estimator_\n",
    "            else:  \n",
    "                model.fit(X_train, y_train)\n",
    "                model_score = model.score(X_test, y_test)\n",
    "                model_params = \"Default parameters\"\n",
    "                model_instance = model\n",
    "\n",
    "            if model_score > best_score:\n",
    "                best_model = model_instance\n",
    "                best_score = model_score\n",
    "\n",
    "            results.append({\"Model\": model_name, \"Best Score\": model_score, \"Best Params\": model_params})\n",
    "            \n",
    "        except Exception as e:\n",
    "            print(f\"Error with model {model_name}: {e}\")\n",
    "            continue\n",
    "        \n",
    "    return pd.DataFrame(results), best_model, best_score\n",
    "\n",
    "results_df, model_name, model_score = get_best_model(X, y, X_train, X_test, y_train, y_test)\n",
    "print(results_df)"
   ]
  },
  {
   "cell_type": "markdown",
   "metadata": {},
   "source": [
    "From the table above with the 5 models I tried, you can see that Ridge Regression would be the best and suitable model to use for this model building as it has the best score."
   ]
  },
  {
   "cell_type": "code",
   "execution_count": 38,
   "metadata": {},
   "outputs": [],
   "source": [
    "def predict_rent_from_input(X_train, y_train, location, total_sqft, bhk, bath, alpha=0.1):\n",
    "    # Preparing the input data for prediction using the model\n",
    "    input_data = pd.DataFrame({\n",
    "        'location': [location],\n",
    "        'total_sqft': [total_sqft],\n",
    "        'bath': [bath],\n",
    "        'bhk': [bhk]\n",
    "    })\n",
    "\n",
    "    # Ensuring the input data is one-hot encoded like X_train so that we don't get errors\n",
    "    input_data_encoded = pd.get_dummies(input_data)\n",
    "    X_train_encoded = pd.get_dummies(X_train)\n",
    "\n",
    "    # Aligning the columns of input_data_encoded with X_train_encoded\n",
    "    input_data_encoded = input_data_encoded.reindex(columns=X_train_encoded.columns, fill_value=0)\n",
    "\n",
    "    # Training the Ridge Regression with the best alpha to prvent overfitting and ensure the model is trained well.\n",
    "    model = Ridge(alpha=alpha)\n",
    "    model.fit(X_train_encoded, y_train)\n",
    "\n",
    "    # Predict rent for the given input data\n",
    "    predicted_rent = model.predict(input_data_encoded)\n",
    "\n",
    "    return predicted_rent[0]"
   ]
  },
  {
   "cell_type": "code",
   "execution_count": 39,
   "metadata": {},
   "outputs": [
    {
     "name": "stdout",
     "output_type": "stream",
     "text": [
      "Predicted Rent: 93.87840160012593\n"
     ]
    }
   ],
   "source": [
    "#Using the function now to predict the price.\n",
    "predicted_rent = predict_rent_from_input(X_train, y_train, \"1st Block Jayanagar\", 1200, 2, 2)\n",
    "print(f\"Predicted Rent: {predicted_rent}\")"
   ]
  },
  {
   "cell_type": "markdown",
   "metadata": {},
   "source": [
    "I tried using the values that are in the data to try and see if it will predict the same price of the house but it did not. This is to be expected as the goal of this model is to generalize unseen data, not to memorize the training data. Even though this model is trained on my data set, it won't predict the rent of the house as written in the data set as shown in the code below. \n",
    "It determined that the rent of the house in 'Chikka Tirupathi' with 2600 total_sqft would cost 207 while in the data sst it says it will cost 140."
   ]
  },
  {
   "cell_type": "code",
   "execution_count": 40,
   "metadata": {},
   "outputs": [
    {
     "name": "stdout",
     "output_type": "stream",
     "text": [
      "Predicted Rent: 207.7309373182776\n"
     ]
    }
   ],
   "source": [
    "predicted_rent = predict_rent_from_input(X_train, y_train, \"Chikka Tirupathi\", 2600, 5, 4)\n",
    "print(f\"Predicted Rent: {predicted_rent}\")"
   ]
  },
  {
   "cell_type": "code",
   "execution_count": 41,
   "metadata": {},
   "outputs": [
    {
     "name": "stdout",
     "output_type": "stream",
     "text": [
      "Predicted Rent: 78.04222348079473\n"
     ]
    }
   ],
   "source": [
    "predicted_rent = predict_rent_from_input(X_train, y_train, \"1st Phase JP Nagar\", 1000, 2, 2)\n",
    "print(f\"Predicted Rent: {predicted_rent}\")"
   ]
  },
  {
   "cell_type": "markdown",
   "metadata": {},
   "source": [
    "Overally the model provides a high score of approximately 85%. The pipeline is flexible and can be scaled to handle more data and additional features when needed.\n",
    "The most important features in my model were the location, total_sqrt, bath and bhk. These were very important as they are the once that people usuaaly are very strict about when searching for a house to rent\n",
    "\n",
    "Limitations.\n",
    "1. The model's performance is constrained by the quality and completeness of the data, e.g. inaccurate features affected the predictions.\n",
    "2. The model assumes that features like \"total_sqft\" and \"bath\" directly influence the rent. In reality, other factors like local economic trends also plays a significant role that the model does not capture.\n",
    "\n",
    "Recommendations.\n",
    "1. Adding more features like nearness to transportation hubs, schools or shopping centers, could improve the models accuracy.\n",
    "2. We will have to ensure that the data collected is of high accuracy by making it a bit difficult for the survey fillers to accurately fill the forms that we will use to collect the data."
   ]
  },
  {
   "cell_type": "markdown",
   "metadata": {},
   "source": []
  }
 ],
 "metadata": {
  "kernelspec": {
   "display_name": "Python 3",
   "language": "python",
   "name": "python3"
  },
  "language_info": {
   "codemirror_mode": {
    "name": "ipython",
    "version": 3
   },
   "file_extension": ".py",
   "mimetype": "text/x-python",
   "name": "python",
   "nbconvert_exporter": "python",
   "pygments_lexer": "ipython3",
   "version": "3.9.6"
  }
 },
 "nbformat": 4,
 "nbformat_minor": 2
}
